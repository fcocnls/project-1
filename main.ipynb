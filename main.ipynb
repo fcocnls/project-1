{
 "cells": [
  {
   "cell_type": "markdown",
   "id": "413ba7b3",
   "metadata": {},
   "source": [
    "Nombre:\n",
    "----------\n",
    "\n",
    "Francisco Benjamín Canales Jure"
   ]
  },
  {
   "cell_type": "markdown",
   "id": "49a7e59f",
   "metadata": {},
   "source": [
    "## 0.- Cargar librerías y explicar sus usos (2 ptos.):"
   ]
  },
  {
   "cell_type": "markdown",
   "id": "98e498c5",
   "metadata": {},
   "source": [
    "- **Pandas**: Se utilizó para generar y trabajar con dataframes desde los datasets entregados.\n",
    "- **Numpy**: Se utilizó para transformar algunos datos no deseados en datos nulos en los dataframes generados.\n",
    "- **Matplotlib**: Se utilizó para generar gráficos circulares y de barras usando algunos atributos de los dataframes:\n",
    "- **Seaborn**: Se utilizó para generar gráficos de violín usando algunos atributos de los dataframes:\n",
    "- **Scikit-learn / StandardScaler**: Se utilizó para la normalización estadística general del dataframe final."
   ]
  },
  {
   "cell_type": "code",
   "execution_count": 52,
   "id": "83aa7088",
   "metadata": {},
   "outputs": [],
   "source": [
    "import pandas as pd\n",
    "import numpy as np\n",
    "import seaborn as sns\n",
    "import matplotlib.pyplot as plt\n",
    "from sklearn.preprocessing import StandardScaler"
   ]
  },
  {
   "cell_type": "markdown",
   "id": "01c87b63",
   "metadata": {},
   "source": [
    "## 1.- Cargar datasets y explorar los datos. Explicar las características de los dataset (estadísticas, datos Nan, datos únicos, etc.) (20 ptos.):\n",
    "\n",
    "Apoyarse en la documentación de Pandas https://pandas.pydata.org/pandas-docs/stable/index.html y Seaborn https://seaborn.pydata.org/index.html"
   ]
  },
  {
   "cell_type": "markdown",
   "id": "66916845",
   "metadata": {},
   "source": [
    "## Respuesta:"
   ]
  },
  {
   "cell_type": "markdown",
   "id": "957a44b6",
   "metadata": {},
   "source": [
    "**1.1.- Carga de datasets CSV en su respectivo dataframe:**"
   ]
  },
  {
   "cell_type": "code",
   "execution_count": 53,
   "id": "5e767c62",
   "metadata": {},
   "outputs": [],
   "source": [
    "df1 = pd.read_csv('data/bank-A.csv', sep = ';')\n",
    "df2 = pd.read_csv('data/bank-B.csv', sep = ',')\n",
    "df3 = pd.read_csv('data/bank-C.csv', sep = ',')\n",
    "pd.set_option('display.max_columns', None)"
   ]
  },
  {
   "cell_type": "markdown",
   "id": "7d8783ae",
   "metadata": {},
   "source": [
    "**1.2.- Visualización parcial de cada dataframe:**"
   ]
  },
  {
   "cell_type": "code",
   "execution_count": 54,
   "id": "fa84779e",
   "metadata": {},
   "outputs": [
    {
     "data": {
      "text/html": [
       "<div>\n",
       "<style scoped>\n",
       "    .dataframe tbody tr th:only-of-type {\n",
       "        vertical-align: middle;\n",
       "    }\n",
       "\n",
       "    .dataframe tbody tr th {\n",
       "        vertical-align: top;\n",
       "    }\n",
       "\n",
       "    .dataframe thead th {\n",
       "        text-align: right;\n",
       "    }\n",
       "</style>\n",
       "<table border=\"1\" class=\"dataframe\">\n",
       "  <thead>\n",
       "    <tr style=\"text-align: right;\">\n",
       "      <th></th>\n",
       "      <th>Unnamed: 0</th>\n",
       "      <th>id</th>\n",
       "      <th>age</th>\n",
       "      <th>job</th>\n",
       "      <th>marital</th>\n",
       "      <th>education</th>\n",
       "      <th>default</th>\n",
       "      <th>housing</th>\n",
       "      <th>day_of_week</th>\n",
       "    </tr>\n",
       "  </thead>\n",
       "  <tbody>\n",
       "    <tr>\n",
       "      <th>0</th>\n",
       "      <td>2292</td>\n",
       "      <td>2292</td>\n",
       "      <td>51.0</td>\n",
       "      <td>entrepreneur</td>\n",
       "      <td>divorced</td>\n",
       "      <td>university.degree</td>\n",
       "      <td>no</td>\n",
       "      <td>yes</td>\n",
       "      <td>mon</td>\n",
       "    </tr>\n",
       "    <tr>\n",
       "      <th>1</th>\n",
       "      <td>1536</td>\n",
       "      <td>1536</td>\n",
       "      <td>37.0</td>\n",
       "      <td>management</td>\n",
       "      <td>married</td>\n",
       "      <td>university.degree</td>\n",
       "      <td>no</td>\n",
       "      <td>yes</td>\n",
       "      <td>tue</td>\n",
       "    </tr>\n",
       "    <tr>\n",
       "      <th>2</th>\n",
       "      <td>4047</td>\n",
       "      <td>4047</td>\n",
       "      <td>38.0</td>\n",
       "      <td>blue-collar</td>\n",
       "      <td>married</td>\n",
       "      <td>basic.4y</td>\n",
       "      <td>unknown</td>\n",
       "      <td>no</td>\n",
       "      <td>wed</td>\n",
       "    </tr>\n",
       "    <tr>\n",
       "      <th>3</th>\n",
       "      <td>3862</td>\n",
       "      <td>3862</td>\n",
       "      <td>NaN</td>\n",
       "      <td>technician</td>\n",
       "      <td>married</td>\n",
       "      <td>professional.course</td>\n",
       "      <td>no</td>\n",
       "      <td>yes</td>\n",
       "      <td>fri</td>\n",
       "    </tr>\n",
       "    <tr>\n",
       "      <th>4</th>\n",
       "      <td>1340</td>\n",
       "      <td>1340</td>\n",
       "      <td>32.0</td>\n",
       "      <td>admin.</td>\n",
       "      <td>married</td>\n",
       "      <td>university.degree</td>\n",
       "      <td>no</td>\n",
       "      <td>yes</td>\n",
       "      <td>NaN</td>\n",
       "    </tr>\n",
       "  </tbody>\n",
       "</table>\n",
       "</div>"
      ],
      "text/plain": [
       "   Unnamed: 0    id   age           job   marital            education  \\\n",
       "0        2292  2292  51.0  entrepreneur  divorced    university.degree   \n",
       "1        1536  1536  37.0    management   married    university.degree   \n",
       "2        4047  4047  38.0   blue-collar   married             basic.4y   \n",
       "3        3862  3862   NaN    technician   married  professional.course   \n",
       "4        1340  1340  32.0        admin.   married    university.degree   \n",
       "\n",
       "   default housing day_of_week  \n",
       "0       no     yes         mon  \n",
       "1       no     yes         tue  \n",
       "2  unknown      no         wed  \n",
       "3       no     yes         fri  \n",
       "4       no     yes         NaN  "
      ]
     },
     "execution_count": 54,
     "metadata": {},
     "output_type": "execute_result"
    }
   ],
   "source": [
    "df1.head()"
   ]
  },
  {
   "cell_type": "code",
   "execution_count": 55,
   "id": "c4413875",
   "metadata": {},
   "outputs": [
    {
     "data": {
      "text/html": [
       "<div>\n",
       "<style scoped>\n",
       "    .dataframe tbody tr th:only-of-type {\n",
       "        vertical-align: middle;\n",
       "    }\n",
       "\n",
       "    .dataframe tbody tr th {\n",
       "        vertical-align: top;\n",
       "    }\n",
       "\n",
       "    .dataframe thead th {\n",
       "        text-align: right;\n",
       "    }\n",
       "</style>\n",
       "<table border=\"1\" class=\"dataframe\">\n",
       "  <thead>\n",
       "    <tr style=\"text-align: right;\">\n",
       "      <th></th>\n",
       "      <th>Unnamed: 0</th>\n",
       "      <th>id</th>\n",
       "      <th>contact</th>\n",
       "      <th>month</th>\n",
       "      <th>day_of_week</th>\n",
       "      <th>duration</th>\n",
       "      <th>campaign</th>\n",
       "      <th>pdays</th>\n",
       "      <th>previous</th>\n",
       "      <th>poutcome</th>\n",
       "      <th>age</th>\n",
       "    </tr>\n",
       "  </thead>\n",
       "  <tbody>\n",
       "    <tr>\n",
       "      <th>0</th>\n",
       "      <td>2292</td>\n",
       "      <td>2292</td>\n",
       "      <td>telephone</td>\n",
       "      <td>may</td>\n",
       "      <td>mon</td>\n",
       "      <td>231</td>\n",
       "      <td>1</td>\n",
       "      <td>999</td>\n",
       "      <td>1</td>\n",
       "      <td>failure</td>\n",
       "      <td>51.0</td>\n",
       "    </tr>\n",
       "    <tr>\n",
       "      <th>1</th>\n",
       "      <td>1536</td>\n",
       "      <td>1536</td>\n",
       "      <td>cellular</td>\n",
       "      <td>aug</td>\n",
       "      <td>tue</td>\n",
       "      <td>263</td>\n",
       "      <td>2</td>\n",
       "      <td>999</td>\n",
       "      <td>0</td>\n",
       "      <td>nonexistent</td>\n",
       "      <td>37.0</td>\n",
       "    </tr>\n",
       "    <tr>\n",
       "      <th>2</th>\n",
       "      <td>4047</td>\n",
       "      <td>4047</td>\n",
       "      <td>telephone</td>\n",
       "      <td>jun</td>\n",
       "      <td>wed</td>\n",
       "      <td>95</td>\n",
       "      <td>2</td>\n",
       "      <td>999</td>\n",
       "      <td>0</td>\n",
       "      <td>nonexistent</td>\n",
       "      <td>38.0</td>\n",
       "    </tr>\n",
       "    <tr>\n",
       "      <th>3</th>\n",
       "      <td>3862</td>\n",
       "      <td>3862</td>\n",
       "      <td>cellular</td>\n",
       "      <td>nov</td>\n",
       "      <td>fri</td>\n",
       "      <td>495</td>\n",
       "      <td>1</td>\n",
       "      <td>3</td>\n",
       "      <td>1</td>\n",
       "      <td>success</td>\n",
       "      <td>52.0</td>\n",
       "    </tr>\n",
       "    <tr>\n",
       "      <th>4</th>\n",
       "      <td>1340</td>\n",
       "      <td>1340</td>\n",
       "      <td>cellular</td>\n",
       "      <td>aug</td>\n",
       "      <td>wed</td>\n",
       "      <td>428</td>\n",
       "      <td>4</td>\n",
       "      <td>999</td>\n",
       "      <td>0</td>\n",
       "      <td>nonexistent</td>\n",
       "      <td>NaN</td>\n",
       "    </tr>\n",
       "  </tbody>\n",
       "</table>\n",
       "</div>"
      ],
      "text/plain": [
       "   Unnamed: 0    id    contact month day_of_week  duration  campaign  pdays  \\\n",
       "0        2292  2292  telephone   may         mon       231         1    999   \n",
       "1        1536  1536   cellular   aug         tue       263         2    999   \n",
       "2        4047  4047  telephone   jun         wed        95         2    999   \n",
       "3        3862  3862   cellular   nov         fri       495         1      3   \n",
       "4        1340  1340   cellular   aug         wed       428         4    999   \n",
       "\n",
       "   previous     poutcome   age  \n",
       "0         1      failure  51.0  \n",
       "1         0  nonexistent  37.0  \n",
       "2         0  nonexistent  38.0  \n",
       "3         1      success  52.0  \n",
       "4         0  nonexistent   NaN  "
      ]
     },
     "execution_count": 55,
     "metadata": {},
     "output_type": "execute_result"
    }
   ],
   "source": [
    "df2.head()"
   ]
  },
  {
   "cell_type": "code",
   "execution_count": 56,
   "id": "6e6be3de",
   "metadata": {},
   "outputs": [
    {
     "data": {
      "text/html": [
       "<div>\n",
       "<style scoped>\n",
       "    .dataframe tbody tr th:only-of-type {\n",
       "        vertical-align: middle;\n",
       "    }\n",
       "\n",
       "    .dataframe tbody tr th {\n",
       "        vertical-align: top;\n",
       "    }\n",
       "\n",
       "    .dataframe thead th {\n",
       "        text-align: right;\n",
       "    }\n",
       "</style>\n",
       "<table border=\"1\" class=\"dataframe\">\n",
       "  <thead>\n",
       "    <tr style=\"text-align: right;\">\n",
       "      <th></th>\n",
       "      <th>Unnamed: 0</th>\n",
       "      <th>id</th>\n",
       "      <th>emp.var.rate</th>\n",
       "      <th>cons.price.idx</th>\n",
       "      <th>cons.conf.idx</th>\n",
       "      <th>euribor3m</th>\n",
       "      <th>nr.employed</th>\n",
       "      <th>contact</th>\n",
       "    </tr>\n",
       "  </thead>\n",
       "  <tbody>\n",
       "    <tr>\n",
       "      <th>0</th>\n",
       "      <td>2292</td>\n",
       "      <td>2292</td>\n",
       "      <td>-1.8</td>\n",
       "      <td>92.893</td>\n",
       "      <td>-46.2</td>\n",
       "      <td>1.299</td>\n",
       "      <td>5099.1</td>\n",
       "      <td>telephone</td>\n",
       "    </tr>\n",
       "    <tr>\n",
       "      <th>1</th>\n",
       "      <td>1536</td>\n",
       "      <td>1536</td>\n",
       "      <td>1.4</td>\n",
       "      <td>93.444</td>\n",
       "      <td>-36.1</td>\n",
       "      <td>4.968</td>\n",
       "      <td>5228.1</td>\n",
       "      <td>NO INFO</td>\n",
       "    </tr>\n",
       "    <tr>\n",
       "      <th>2</th>\n",
       "      <td>4047</td>\n",
       "      <td>4047</td>\n",
       "      <td>1.4</td>\n",
       "      <td>94.465</td>\n",
       "      <td>-41.8</td>\n",
       "      <td>4.959</td>\n",
       "      <td>5228.1</td>\n",
       "      <td>telephone</td>\n",
       "    </tr>\n",
       "    <tr>\n",
       "      <th>3</th>\n",
       "      <td>3862</td>\n",
       "      <td>3862</td>\n",
       "      <td>-3.4</td>\n",
       "      <td>92.649</td>\n",
       "      <td>-30.1</td>\n",
       "      <td>0.714</td>\n",
       "      <td>5017.5</td>\n",
       "      <td>cellular</td>\n",
       "    </tr>\n",
       "    <tr>\n",
       "      <th>4</th>\n",
       "      <td>1340</td>\n",
       "      <td>1340</td>\n",
       "      <td>1.4</td>\n",
       "      <td>93.444</td>\n",
       "      <td>-36.1</td>\n",
       "      <td>4.964</td>\n",
       "      <td>5228.1</td>\n",
       "      <td>cellular</td>\n",
       "    </tr>\n",
       "  </tbody>\n",
       "</table>\n",
       "</div>"
      ],
      "text/plain": [
       "   Unnamed: 0    id  emp.var.rate  cons.price.idx  cons.conf.idx  euribor3m  \\\n",
       "0        2292  2292          -1.8          92.893          -46.2      1.299   \n",
       "1        1536  1536           1.4          93.444          -36.1      4.968   \n",
       "2        4047  4047           1.4          94.465          -41.8      4.959   \n",
       "3        3862  3862          -3.4          92.649          -30.1      0.714   \n",
       "4        1340  1340           1.4          93.444          -36.1      4.964   \n",
       "\n",
       "   nr.employed    contact  \n",
       "0       5099.1  telephone  \n",
       "1       5228.1    NO INFO  \n",
       "2       5228.1  telephone  \n",
       "3       5017.5   cellular  \n",
       "4       5228.1   cellular  "
      ]
     },
     "execution_count": 56,
     "metadata": {},
     "output_type": "execute_result"
    }
   ],
   "source": [
    "df3.head()"
   ]
  },
  {
   "cell_type": "markdown",
   "id": "3583f6b4",
   "metadata": {},
   "source": [
    "**1.3.- Identificación de atributos de cada dataframe:**\n",
    "- Atributos **Unnamed: 0** y **id** se repitieron en todos los df.\n",
    "- Atributos **age** y **day_of_week** se repitieron en los df1 y df2.\n",
    "- Atributo **contact** se repitió en los df2 y df3.\n"
   ]
  },
  {
   "cell_type": "code",
   "execution_count": 57,
   "id": "4ec1500e",
   "metadata": {},
   "outputs": [
    {
     "data": {
      "text/plain": [
       "Index(['Unnamed: 0', 'id', 'age', 'job', 'marital', 'education', 'default',\n",
       "       'housing', 'day_of_week'],\n",
       "      dtype='object')"
      ]
     },
     "execution_count": 57,
     "metadata": {},
     "output_type": "execute_result"
    }
   ],
   "source": [
    "df1.columns"
   ]
  },
  {
   "cell_type": "code",
   "execution_count": 58,
   "id": "da5c0113",
   "metadata": {},
   "outputs": [
    {
     "data": {
      "text/plain": [
       "Index(['Unnamed: 0', 'id', 'contact', 'month', 'day_of_week', 'duration',\n",
       "       'campaign', 'pdays', 'previous', 'poutcome', 'age'],\n",
       "      dtype='object')"
      ]
     },
     "execution_count": 58,
     "metadata": {},
     "output_type": "execute_result"
    }
   ],
   "source": [
    "df2.columns"
   ]
  },
  {
   "cell_type": "code",
   "execution_count": 59,
   "id": "8b28f23c",
   "metadata": {},
   "outputs": [
    {
     "data": {
      "text/plain": [
       "Index(['Unnamed: 0', 'id', 'emp.var.rate', 'cons.price.idx', 'cons.conf.idx',\n",
       "       'euribor3m', 'nr.employed', 'contact'],\n",
       "      dtype='object')"
      ]
     },
     "execution_count": 59,
     "metadata": {},
     "output_type": "execute_result"
    }
   ],
   "source": [
    "df3.columns"
   ]
  },
  {
   "cell_type": "markdown",
   "id": "dd6a7a8f",
   "metadata": {},
   "source": [
    "**1.4.- Identifación del tipo de dato asociado a cada atributo:**\n",
    "- **int64**: número entero de 64 bits.\n",
    "- **float64**: número decimal de 64 bits.\n",
    "- **object**: números y secuencias de carácteres."
   ]
  },
  {
   "cell_type": "code",
   "execution_count": 60,
   "id": "3f27e7d7",
   "metadata": {},
   "outputs": [
    {
     "data": {
      "text/plain": [
       "Unnamed: 0       int64\n",
       "id               int64\n",
       "age            float64\n",
       "job             object\n",
       "marital         object\n",
       "education       object\n",
       "default         object\n",
       "housing         object\n",
       "day_of_week     object\n",
       "dtype: object"
      ]
     },
     "execution_count": 60,
     "metadata": {},
     "output_type": "execute_result"
    }
   ],
   "source": [
    "df1.dtypes"
   ]
  },
  {
   "cell_type": "code",
   "execution_count": 61,
   "id": "79beb8a9",
   "metadata": {},
   "outputs": [
    {
     "data": {
      "text/plain": [
       "Unnamed: 0       int64\n",
       "id               int64\n",
       "contact         object\n",
       "month           object\n",
       "day_of_week     object\n",
       "duration         int64\n",
       "campaign         int64\n",
       "pdays            int64\n",
       "previous         int64\n",
       "poutcome        object\n",
       "age            float64\n",
       "dtype: object"
      ]
     },
     "execution_count": 61,
     "metadata": {},
     "output_type": "execute_result"
    }
   ],
   "source": [
    "df2.dtypes"
   ]
  },
  {
   "cell_type": "code",
   "execution_count": 62,
   "id": "21f30370",
   "metadata": {},
   "outputs": [
    {
     "data": {
      "text/plain": [
       "Unnamed: 0          int64\n",
       "id                  int64\n",
       "emp.var.rate      float64\n",
       "cons.price.idx    float64\n",
       "cons.conf.idx     float64\n",
       "euribor3m         float64\n",
       "nr.employed       float64\n",
       "contact            object\n",
       "dtype: object"
      ]
     },
     "execution_count": 62,
     "metadata": {},
     "output_type": "execute_result"
    }
   ],
   "source": [
    "df3.dtypes"
   ]
  },
  {
   "cell_type": "markdown",
   "id": "a1844912",
   "metadata": {},
   "source": [
    "**1.5.- Estadística despcriptiva de cada dataframe:**\n",
    "- El estadístico **count** se aplicó a todos los tipos de dato.\n",
    "- Los estadísticos **unique**, **top** y **freq** se aplicaron solo a datos de tipo object.\n",
    "- Los estadísticos **mean**, **std**, **min**, **max** y **p%** se aplicaron solo a datos de tipo int64 y float64."
   ]
  },
  {
   "cell_type": "code",
   "execution_count": 63,
   "id": "9cc58b6e",
   "metadata": {},
   "outputs": [
    {
     "data": {
      "text/html": [
       "<div>\n",
       "<style scoped>\n",
       "    .dataframe tbody tr th:only-of-type {\n",
       "        vertical-align: middle;\n",
       "    }\n",
       "\n",
       "    .dataframe tbody tr th {\n",
       "        vertical-align: top;\n",
       "    }\n",
       "\n",
       "    .dataframe thead th {\n",
       "        text-align: right;\n",
       "    }\n",
       "</style>\n",
       "<table border=\"1\" class=\"dataframe\">\n",
       "  <thead>\n",
       "    <tr style=\"text-align: right;\">\n",
       "      <th></th>\n",
       "      <th>Unnamed: 0</th>\n",
       "      <th>id</th>\n",
       "      <th>age</th>\n",
       "      <th>job</th>\n",
       "      <th>marital</th>\n",
       "      <th>education</th>\n",
       "      <th>default</th>\n",
       "      <th>housing</th>\n",
       "      <th>day_of_week</th>\n",
       "    </tr>\n",
       "  </thead>\n",
       "  <tbody>\n",
       "    <tr>\n",
       "      <th>count</th>\n",
       "      <td>50.000000</td>\n",
       "      <td>50.000000</td>\n",
       "      <td>42.000000</td>\n",
       "      <td>50</td>\n",
       "      <td>50</td>\n",
       "      <td>50</td>\n",
       "      <td>50</td>\n",
       "      <td>50</td>\n",
       "      <td>42</td>\n",
       "    </tr>\n",
       "    <tr>\n",
       "      <th>unique</th>\n",
       "      <td>NaN</td>\n",
       "      <td>NaN</td>\n",
       "      <td>NaN</td>\n",
       "      <td>8</td>\n",
       "      <td>3</td>\n",
       "      <td>7</td>\n",
       "      <td>2</td>\n",
       "      <td>3</td>\n",
       "      <td>5</td>\n",
       "    </tr>\n",
       "    <tr>\n",
       "      <th>top</th>\n",
       "      <td>NaN</td>\n",
       "      <td>NaN</td>\n",
       "      <td>NaN</td>\n",
       "      <td>blue-collar</td>\n",
       "      <td>married</td>\n",
       "      <td>university.degree</td>\n",
       "      <td>no</td>\n",
       "      <td>yes</td>\n",
       "      <td>wed</td>\n",
       "    </tr>\n",
       "    <tr>\n",
       "      <th>freq</th>\n",
       "      <td>NaN</td>\n",
       "      <td>NaN</td>\n",
       "      <td>NaN</td>\n",
       "      <td>13</td>\n",
       "      <td>29</td>\n",
       "      <td>15</td>\n",
       "      <td>37</td>\n",
       "      <td>27</td>\n",
       "      <td>11</td>\n",
       "    </tr>\n",
       "    <tr>\n",
       "      <th>mean</th>\n",
       "      <td>2461.900000</td>\n",
       "      <td>2461.900000</td>\n",
       "      <td>40.357143</td>\n",
       "      <td>NaN</td>\n",
       "      <td>NaN</td>\n",
       "      <td>NaN</td>\n",
       "      <td>NaN</td>\n",
       "      <td>NaN</td>\n",
       "      <td>NaN</td>\n",
       "    </tr>\n",
       "    <tr>\n",
       "      <th>std</th>\n",
       "      <td>1047.344129</td>\n",
       "      <td>1047.344129</td>\n",
       "      <td>9.084485</td>\n",
       "      <td>NaN</td>\n",
       "      <td>NaN</td>\n",
       "      <td>NaN</td>\n",
       "      <td>NaN</td>\n",
       "      <td>NaN</td>\n",
       "      <td>NaN</td>\n",
       "    </tr>\n",
       "    <tr>\n",
       "      <th>min</th>\n",
       "      <td>257.000000</td>\n",
       "      <td>257.000000</td>\n",
       "      <td>27.000000</td>\n",
       "      <td>NaN</td>\n",
       "      <td>NaN</td>\n",
       "      <td>NaN</td>\n",
       "      <td>NaN</td>\n",
       "      <td>NaN</td>\n",
       "      <td>NaN</td>\n",
       "    </tr>\n",
       "    <tr>\n",
       "      <th>25%</th>\n",
       "      <td>1553.750000</td>\n",
       "      <td>1553.750000</td>\n",
       "      <td>31.250000</td>\n",
       "      <td>NaN</td>\n",
       "      <td>NaN</td>\n",
       "      <td>NaN</td>\n",
       "      <td>NaN</td>\n",
       "      <td>NaN</td>\n",
       "      <td>NaN</td>\n",
       "    </tr>\n",
       "    <tr>\n",
       "      <th>50%</th>\n",
       "      <td>2486.000000</td>\n",
       "      <td>2486.000000</td>\n",
       "      <td>38.000000</td>\n",
       "      <td>NaN</td>\n",
       "      <td>NaN</td>\n",
       "      <td>NaN</td>\n",
       "      <td>NaN</td>\n",
       "      <td>NaN</td>\n",
       "      <td>NaN</td>\n",
       "    </tr>\n",
       "    <tr>\n",
       "      <th>75%</th>\n",
       "      <td>3407.000000</td>\n",
       "      <td>3407.000000</td>\n",
       "      <td>48.500000</td>\n",
       "      <td>NaN</td>\n",
       "      <td>NaN</td>\n",
       "      <td>NaN</td>\n",
       "      <td>NaN</td>\n",
       "      <td>NaN</td>\n",
       "      <td>NaN</td>\n",
       "    </tr>\n",
       "    <tr>\n",
       "      <th>max</th>\n",
       "      <td>4047.000000</td>\n",
       "      <td>4047.000000</td>\n",
       "      <td>57.000000</td>\n",
       "      <td>NaN</td>\n",
       "      <td>NaN</td>\n",
       "      <td>NaN</td>\n",
       "      <td>NaN</td>\n",
       "      <td>NaN</td>\n",
       "      <td>NaN</td>\n",
       "    </tr>\n",
       "  </tbody>\n",
       "</table>\n",
       "</div>"
      ],
      "text/plain": [
       "         Unnamed: 0           id        age          job  marital  \\\n",
       "count     50.000000    50.000000  42.000000           50       50   \n",
       "unique          NaN          NaN        NaN            8        3   \n",
       "top             NaN          NaN        NaN  blue-collar  married   \n",
       "freq            NaN          NaN        NaN           13       29   \n",
       "mean    2461.900000  2461.900000  40.357143          NaN      NaN   \n",
       "std     1047.344129  1047.344129   9.084485          NaN      NaN   \n",
       "min      257.000000   257.000000  27.000000          NaN      NaN   \n",
       "25%     1553.750000  1553.750000  31.250000          NaN      NaN   \n",
       "50%     2486.000000  2486.000000  38.000000          NaN      NaN   \n",
       "75%     3407.000000  3407.000000  48.500000          NaN      NaN   \n",
       "max     4047.000000  4047.000000  57.000000          NaN      NaN   \n",
       "\n",
       "                education default housing day_of_week  \n",
       "count                  50      50      50          42  \n",
       "unique                  7       2       3           5  \n",
       "top     university.degree      no     yes         wed  \n",
       "freq                   15      37      27          11  \n",
       "mean                  NaN     NaN     NaN         NaN  \n",
       "std                   NaN     NaN     NaN         NaN  \n",
       "min                   NaN     NaN     NaN         NaN  \n",
       "25%                   NaN     NaN     NaN         NaN  \n",
       "50%                   NaN     NaN     NaN         NaN  \n",
       "75%                   NaN     NaN     NaN         NaN  \n",
       "max                   NaN     NaN     NaN         NaN  "
      ]
     },
     "execution_count": 63,
     "metadata": {},
     "output_type": "execute_result"
    }
   ],
   "source": [
    "df1.describe(include = 'all')"
   ]
  },
  {
   "cell_type": "code",
   "execution_count": 64,
   "id": "cbc50369",
   "metadata": {},
   "outputs": [
    {
     "data": {
      "text/html": [
       "<div>\n",
       "<style scoped>\n",
       "    .dataframe tbody tr th:only-of-type {\n",
       "        vertical-align: middle;\n",
       "    }\n",
       "\n",
       "    .dataframe tbody tr th {\n",
       "        vertical-align: top;\n",
       "    }\n",
       "\n",
       "    .dataframe thead th {\n",
       "        text-align: right;\n",
       "    }\n",
       "</style>\n",
       "<table border=\"1\" class=\"dataframe\">\n",
       "  <thead>\n",
       "    <tr style=\"text-align: right;\">\n",
       "      <th></th>\n",
       "      <th>Unnamed: 0</th>\n",
       "      <th>id</th>\n",
       "      <th>contact</th>\n",
       "      <th>month</th>\n",
       "      <th>day_of_week</th>\n",
       "      <th>duration</th>\n",
       "      <th>campaign</th>\n",
       "      <th>pdays</th>\n",
       "      <th>previous</th>\n",
       "      <th>poutcome</th>\n",
       "      <th>age</th>\n",
       "    </tr>\n",
       "  </thead>\n",
       "  <tbody>\n",
       "    <tr>\n",
       "      <th>count</th>\n",
       "      <td>50.000000</td>\n",
       "      <td>50.000000</td>\n",
       "      <td>50</td>\n",
       "      <td>50</td>\n",
       "      <td>42</td>\n",
       "      <td>50.000000</td>\n",
       "      <td>50.000000</td>\n",
       "      <td>50.000000</td>\n",
       "      <td>50.000000</td>\n",
       "      <td>50</td>\n",
       "      <td>42.000000</td>\n",
       "    </tr>\n",
       "    <tr>\n",
       "      <th>unique</th>\n",
       "      <td>NaN</td>\n",
       "      <td>NaN</td>\n",
       "      <td>3</td>\n",
       "      <td>6</td>\n",
       "      <td>5</td>\n",
       "      <td>NaN</td>\n",
       "      <td>NaN</td>\n",
       "      <td>NaN</td>\n",
       "      <td>NaN</td>\n",
       "      <td>3</td>\n",
       "      <td>NaN</td>\n",
       "    </tr>\n",
       "    <tr>\n",
       "      <th>top</th>\n",
       "      <td>NaN</td>\n",
       "      <td>NaN</td>\n",
       "      <td>cellular</td>\n",
       "      <td>may</td>\n",
       "      <td>wed</td>\n",
       "      <td>NaN</td>\n",
       "      <td>NaN</td>\n",
       "      <td>NaN</td>\n",
       "      <td>NaN</td>\n",
       "      <td>nonexistent</td>\n",
       "      <td>NaN</td>\n",
       "    </tr>\n",
       "    <tr>\n",
       "      <th>freq</th>\n",
       "      <td>NaN</td>\n",
       "      <td>NaN</td>\n",
       "      <td>26</td>\n",
       "      <td>20</td>\n",
       "      <td>13</td>\n",
       "      <td>NaN</td>\n",
       "      <td>NaN</td>\n",
       "      <td>NaN</td>\n",
       "      <td>NaN</td>\n",
       "      <td>44</td>\n",
       "      <td>NaN</td>\n",
       "    </tr>\n",
       "    <tr>\n",
       "      <th>mean</th>\n",
       "      <td>2461.900000</td>\n",
       "      <td>2461.900000</td>\n",
       "      <td>NaN</td>\n",
       "      <td>NaN</td>\n",
       "      <td>NaN</td>\n",
       "      <td>270.100000</td>\n",
       "      <td>2.280000</td>\n",
       "      <td>979.080000</td>\n",
       "      <td>0.120000</td>\n",
       "      <td>NaN</td>\n",
       "      <td>40.880952</td>\n",
       "    </tr>\n",
       "    <tr>\n",
       "      <th>std</th>\n",
       "      <td>1047.344129</td>\n",
       "      <td>1047.344129</td>\n",
       "      <td>NaN</td>\n",
       "      <td>NaN</td>\n",
       "      <td>NaN</td>\n",
       "      <td>204.363147</td>\n",
       "      <td>1.917056</td>\n",
       "      <td>140.855671</td>\n",
       "      <td>0.328261</td>\n",
       "      <td>NaN</td>\n",
       "      <td>9.292542</td>\n",
       "    </tr>\n",
       "    <tr>\n",
       "      <th>min</th>\n",
       "      <td>257.000000</td>\n",
       "      <td>257.000000</td>\n",
       "      <td>NaN</td>\n",
       "      <td>NaN</td>\n",
       "      <td>NaN</td>\n",
       "      <td>68.000000</td>\n",
       "      <td>1.000000</td>\n",
       "      <td>3.000000</td>\n",
       "      <td>0.000000</td>\n",
       "      <td>NaN</td>\n",
       "      <td>26.000000</td>\n",
       "    </tr>\n",
       "    <tr>\n",
       "      <th>25%</th>\n",
       "      <td>1553.750000</td>\n",
       "      <td>1553.750000</td>\n",
       "      <td>NaN</td>\n",
       "      <td>NaN</td>\n",
       "      <td>NaN</td>\n",
       "      <td>160.250000</td>\n",
       "      <td>1.000000</td>\n",
       "      <td>999.000000</td>\n",
       "      <td>0.000000</td>\n",
       "      <td>NaN</td>\n",
       "      <td>33.000000</td>\n",
       "    </tr>\n",
       "    <tr>\n",
       "      <th>50%</th>\n",
       "      <td>2486.000000</td>\n",
       "      <td>2486.000000</td>\n",
       "      <td>NaN</td>\n",
       "      <td>NaN</td>\n",
       "      <td>NaN</td>\n",
       "      <td>198.500000</td>\n",
       "      <td>2.000000</td>\n",
       "      <td>999.000000</td>\n",
       "      <td>0.000000</td>\n",
       "      <td>NaN</td>\n",
       "      <td>38.000000</td>\n",
       "    </tr>\n",
       "    <tr>\n",
       "      <th>75%</th>\n",
       "      <td>3407.000000</td>\n",
       "      <td>3407.000000</td>\n",
       "      <td>NaN</td>\n",
       "      <td>NaN</td>\n",
       "      <td>NaN</td>\n",
       "      <td>303.750000</td>\n",
       "      <td>3.000000</td>\n",
       "      <td>999.000000</td>\n",
       "      <td>0.000000</td>\n",
       "      <td>NaN</td>\n",
       "      <td>50.500000</td>\n",
       "    </tr>\n",
       "    <tr>\n",
       "      <th>max</th>\n",
       "      <td>4047.000000</td>\n",
       "      <td>4047.000000</td>\n",
       "      <td>NaN</td>\n",
       "      <td>NaN</td>\n",
       "      <td>NaN</td>\n",
       "      <td>1259.000000</td>\n",
       "      <td>12.000000</td>\n",
       "      <td>999.000000</td>\n",
       "      <td>1.000000</td>\n",
       "      <td>NaN</td>\n",
       "      <td>57.000000</td>\n",
       "    </tr>\n",
       "  </tbody>\n",
       "</table>\n",
       "</div>"
      ],
      "text/plain": [
       "         Unnamed: 0           id   contact month day_of_week     duration  \\\n",
       "count     50.000000    50.000000        50    50          42    50.000000   \n",
       "unique          NaN          NaN         3     6           5          NaN   \n",
       "top             NaN          NaN  cellular   may         wed          NaN   \n",
       "freq            NaN          NaN        26    20          13          NaN   \n",
       "mean    2461.900000  2461.900000       NaN   NaN         NaN   270.100000   \n",
       "std     1047.344129  1047.344129       NaN   NaN         NaN   204.363147   \n",
       "min      257.000000   257.000000       NaN   NaN         NaN    68.000000   \n",
       "25%     1553.750000  1553.750000       NaN   NaN         NaN   160.250000   \n",
       "50%     2486.000000  2486.000000       NaN   NaN         NaN   198.500000   \n",
       "75%     3407.000000  3407.000000       NaN   NaN         NaN   303.750000   \n",
       "max     4047.000000  4047.000000       NaN   NaN         NaN  1259.000000   \n",
       "\n",
       "         campaign       pdays   previous     poutcome        age  \n",
       "count   50.000000   50.000000  50.000000           50  42.000000  \n",
       "unique        NaN         NaN        NaN            3        NaN  \n",
       "top           NaN         NaN        NaN  nonexistent        NaN  \n",
       "freq          NaN         NaN        NaN           44        NaN  \n",
       "mean     2.280000  979.080000   0.120000          NaN  40.880952  \n",
       "std      1.917056  140.855671   0.328261          NaN   9.292542  \n",
       "min      1.000000    3.000000   0.000000          NaN  26.000000  \n",
       "25%      1.000000  999.000000   0.000000          NaN  33.000000  \n",
       "50%      2.000000  999.000000   0.000000          NaN  38.000000  \n",
       "75%      3.000000  999.000000   0.000000          NaN  50.500000  \n",
       "max     12.000000  999.000000   1.000000          NaN  57.000000  "
      ]
     },
     "execution_count": 64,
     "metadata": {},
     "output_type": "execute_result"
    }
   ],
   "source": [
    "df2.describe(include = 'all')"
   ]
  },
  {
   "cell_type": "code",
   "execution_count": 65,
   "id": "2476ae0e",
   "metadata": {},
   "outputs": [
    {
     "data": {
      "text/html": [
       "<div>\n",
       "<style scoped>\n",
       "    .dataframe tbody tr th:only-of-type {\n",
       "        vertical-align: middle;\n",
       "    }\n",
       "\n",
       "    .dataframe tbody tr th {\n",
       "        vertical-align: top;\n",
       "    }\n",
       "\n",
       "    .dataframe thead th {\n",
       "        text-align: right;\n",
       "    }\n",
       "</style>\n",
       "<table border=\"1\" class=\"dataframe\">\n",
       "  <thead>\n",
       "    <tr style=\"text-align: right;\">\n",
       "      <th></th>\n",
       "      <th>Unnamed: 0</th>\n",
       "      <th>id</th>\n",
       "      <th>emp.var.rate</th>\n",
       "      <th>cons.price.idx</th>\n",
       "      <th>cons.conf.idx</th>\n",
       "      <th>euribor3m</th>\n",
       "      <th>nr.employed</th>\n",
       "      <th>contact</th>\n",
       "    </tr>\n",
       "  </thead>\n",
       "  <tbody>\n",
       "    <tr>\n",
       "      <th>count</th>\n",
       "      <td>50.000000</td>\n",
       "      <td>50.000000</td>\n",
       "      <td>50.000000</td>\n",
       "      <td>50.000000</td>\n",
       "      <td>50.000000</td>\n",
       "      <td>50.000000</td>\n",
       "      <td>50.00000</td>\n",
       "      <td>50</td>\n",
       "    </tr>\n",
       "    <tr>\n",
       "      <th>unique</th>\n",
       "      <td>NaN</td>\n",
       "      <td>NaN</td>\n",
       "      <td>NaN</td>\n",
       "      <td>NaN</td>\n",
       "      <td>NaN</td>\n",
       "      <td>NaN</td>\n",
       "      <td>NaN</td>\n",
       "      <td>3</td>\n",
       "    </tr>\n",
       "    <tr>\n",
       "      <th>top</th>\n",
       "      <td>NaN</td>\n",
       "      <td>NaN</td>\n",
       "      <td>NaN</td>\n",
       "      <td>NaN</td>\n",
       "      <td>NaN</td>\n",
       "      <td>NaN</td>\n",
       "      <td>NaN</td>\n",
       "      <td>cellular</td>\n",
       "    </tr>\n",
       "    <tr>\n",
       "      <th>freq</th>\n",
       "      <td>NaN</td>\n",
       "      <td>NaN</td>\n",
       "      <td>NaN</td>\n",
       "      <td>NaN</td>\n",
       "      <td>NaN</td>\n",
       "      <td>NaN</td>\n",
       "      <td>NaN</td>\n",
       "      <td>26</td>\n",
       "    </tr>\n",
       "    <tr>\n",
       "      <th>mean</th>\n",
       "      <td>2461.900000</td>\n",
       "      <td>2461.900000</td>\n",
       "      <td>0.324000</td>\n",
       "      <td>93.588360</td>\n",
       "      <td>-40.062000</td>\n",
       "      <td>3.965080</td>\n",
       "      <td>5181.00800</td>\n",
       "      <td>NaN</td>\n",
       "    </tr>\n",
       "    <tr>\n",
       "      <th>std</th>\n",
       "      <td>1047.344129</td>\n",
       "      <td>1047.344129</td>\n",
       "      <td>1.392188</td>\n",
       "      <td>0.514534</td>\n",
       "      <td>4.143295</td>\n",
       "      <td>1.532579</td>\n",
       "      <td>57.86105</td>\n",
       "      <td>NaN</td>\n",
       "    </tr>\n",
       "    <tr>\n",
       "      <th>min</th>\n",
       "      <td>257.000000</td>\n",
       "      <td>257.000000</td>\n",
       "      <td>-3.400000</td>\n",
       "      <td>92.469000</td>\n",
       "      <td>-47.100000</td>\n",
       "      <td>0.697000</td>\n",
       "      <td>5008.70000</td>\n",
       "      <td>NaN</td>\n",
       "    </tr>\n",
       "    <tr>\n",
       "      <th>25%</th>\n",
       "      <td>1553.750000</td>\n",
       "      <td>1553.750000</td>\n",
       "      <td>-0.100000</td>\n",
       "      <td>93.200000</td>\n",
       "      <td>-42.700000</td>\n",
       "      <td>4.087000</td>\n",
       "      <td>5191.00000</td>\n",
       "      <td>NaN</td>\n",
       "    </tr>\n",
       "    <tr>\n",
       "      <th>50%</th>\n",
       "      <td>2486.000000</td>\n",
       "      <td>2486.000000</td>\n",
       "      <td>1.100000</td>\n",
       "      <td>93.660000</td>\n",
       "      <td>-41.800000</td>\n",
       "      <td>4.857000</td>\n",
       "      <td>5195.80000</td>\n",
       "      <td>NaN</td>\n",
       "    </tr>\n",
       "    <tr>\n",
       "      <th>75%</th>\n",
       "      <td>3407.000000</td>\n",
       "      <td>3407.000000</td>\n",
       "      <td>1.400000</td>\n",
       "      <td>93.994000</td>\n",
       "      <td>-36.400000</td>\n",
       "      <td>4.960500</td>\n",
       "      <td>5228.10000</td>\n",
       "      <td>NaN</td>\n",
       "    </tr>\n",
       "    <tr>\n",
       "      <th>max</th>\n",
       "      <td>4047.000000</td>\n",
       "      <td>4047.000000</td>\n",
       "      <td>1.400000</td>\n",
       "      <td>94.465000</td>\n",
       "      <td>-30.100000</td>\n",
       "      <td>4.968000</td>\n",
       "      <td>5228.10000</td>\n",
       "      <td>NaN</td>\n",
       "    </tr>\n",
       "  </tbody>\n",
       "</table>\n",
       "</div>"
      ],
      "text/plain": [
       "         Unnamed: 0           id  emp.var.rate  cons.price.idx  cons.conf.idx  \\\n",
       "count     50.000000    50.000000     50.000000       50.000000      50.000000   \n",
       "unique          NaN          NaN           NaN             NaN            NaN   \n",
       "top             NaN          NaN           NaN             NaN            NaN   \n",
       "freq            NaN          NaN           NaN             NaN            NaN   \n",
       "mean    2461.900000  2461.900000      0.324000       93.588360     -40.062000   \n",
       "std     1047.344129  1047.344129      1.392188        0.514534       4.143295   \n",
       "min      257.000000   257.000000     -3.400000       92.469000     -47.100000   \n",
       "25%     1553.750000  1553.750000     -0.100000       93.200000     -42.700000   \n",
       "50%     2486.000000  2486.000000      1.100000       93.660000     -41.800000   \n",
       "75%     3407.000000  3407.000000      1.400000       93.994000     -36.400000   \n",
       "max     4047.000000  4047.000000      1.400000       94.465000     -30.100000   \n",
       "\n",
       "        euribor3m  nr.employed   contact  \n",
       "count   50.000000     50.00000        50  \n",
       "unique        NaN          NaN         3  \n",
       "top           NaN          NaN  cellular  \n",
       "freq          NaN          NaN        26  \n",
       "mean     3.965080   5181.00800       NaN  \n",
       "std      1.532579     57.86105       NaN  \n",
       "min      0.697000   5008.70000       NaN  \n",
       "25%      4.087000   5191.00000       NaN  \n",
       "50%      4.857000   5195.80000       NaN  \n",
       "75%      4.960500   5228.10000       NaN  \n",
       "max      4.968000   5228.10000       NaN  "
      ]
     },
     "execution_count": 65,
     "metadata": {},
     "output_type": "execute_result"
    }
   ],
   "source": [
    "df3.describe(include = 'all')"
   ]
  },
  {
   "cell_type": "markdown",
   "id": "2d994f41",
   "metadata": {},
   "source": [
    "**1.6.- Cantidad de datos nulos por atributo:**\n",
    "- Se detectaron 8 datos nulos en los atributos **age** y **day_of_week** en df1.\n",
    "- Se detectaron 8 datos nulos en los atributos **age** y **day_of_week** en df2."
   ]
  },
  {
   "cell_type": "code",
   "execution_count": 66,
   "id": "134a729a",
   "metadata": {},
   "outputs": [
    {
     "data": {
      "text/plain": [
       "Unnamed: 0     0\n",
       "id             0\n",
       "age            8\n",
       "job            0\n",
       "marital        0\n",
       "education      0\n",
       "default        0\n",
       "housing        0\n",
       "day_of_week    8\n",
       "dtype: int64"
      ]
     },
     "execution_count": 66,
     "metadata": {},
     "output_type": "execute_result"
    }
   ],
   "source": [
    "pd.isna(df1).sum()"
   ]
  },
  {
   "cell_type": "code",
   "execution_count": 67,
   "id": "a6f7ce42",
   "metadata": {},
   "outputs": [
    {
     "data": {
      "text/plain": [
       "Unnamed: 0     0\n",
       "id             0\n",
       "contact        0\n",
       "month          0\n",
       "day_of_week    8\n",
       "duration       0\n",
       "campaign       0\n",
       "pdays          0\n",
       "previous       0\n",
       "poutcome       0\n",
       "age            8\n",
       "dtype: int64"
      ]
     },
     "execution_count": 67,
     "metadata": {},
     "output_type": "execute_result"
    }
   ],
   "source": [
    "pd.isna(df2).sum()"
   ]
  },
  {
   "cell_type": "code",
   "execution_count": 68,
   "id": "902fdba5",
   "metadata": {},
   "outputs": [
    {
     "data": {
      "text/plain": [
       "Unnamed: 0        0\n",
       "id                0\n",
       "emp.var.rate      0\n",
       "cons.price.idx    0\n",
       "cons.conf.idx     0\n",
       "euribor3m         0\n",
       "nr.employed       0\n",
       "contact           0\n",
       "dtype: int64"
      ]
     },
     "execution_count": 68,
     "metadata": {},
     "output_type": "execute_result"
    }
   ],
   "source": [
    "pd.isna(df3).sum()"
   ]
  },
  {
   "cell_type": "markdown",
   "id": "dbd4ac13",
   "metadata": {},
   "source": [
    "**1.7.- Cantidad de datos únicos por atributo:**"
   ]
  },
  {
   "cell_type": "code",
   "execution_count": 69,
   "id": "d2832089",
   "metadata": {},
   "outputs": [
    {
     "data": {
      "text/plain": [
       "Unnamed: 0     50\n",
       "id             50\n",
       "age            21\n",
       "job             8\n",
       "marital         3\n",
       "education       7\n",
       "default         2\n",
       "housing         3\n",
       "day_of_week     5\n",
       "dtype: int64"
      ]
     },
     "execution_count": 69,
     "metadata": {},
     "output_type": "execute_result"
    }
   ],
   "source": [
    "df1.nunique()"
   ]
  },
  {
   "cell_type": "code",
   "execution_count": 70,
   "id": "74e18064",
   "metadata": {},
   "outputs": [
    {
     "data": {
      "text/plain": [
       "Unnamed: 0     50\n",
       "id             50\n",
       "contact         3\n",
       "month           6\n",
       "day_of_week     5\n",
       "duration       49\n",
       "campaign        7\n",
       "pdays           2\n",
       "previous        2\n",
       "poutcome        3\n",
       "age            21\n",
       "dtype: int64"
      ]
     },
     "execution_count": 70,
     "metadata": {},
     "output_type": "execute_result"
    }
   ],
   "source": [
    "df2.nunique()"
   ]
  },
  {
   "cell_type": "code",
   "execution_count": 71,
   "id": "61fea64b",
   "metadata": {},
   "outputs": [
    {
     "data": {
      "text/plain": [
       "Unnamed: 0        50\n",
       "id                50\n",
       "emp.var.rate       6\n",
       "cons.price.idx    10\n",
       "cons.conf.idx     10\n",
       "euribor3m         30\n",
       "nr.employed        7\n",
       "contact            3\n",
       "dtype: int64"
      ]
     },
     "execution_count": 71,
     "metadata": {},
     "output_type": "execute_result"
    }
   ],
   "source": [
    "df3.nunique()"
   ]
  },
  {
   "cell_type": "markdown",
   "id": "cd1a670c",
   "metadata": {},
   "source": [
    "**1.8.- Identificación de datos únicos por atributo:**\n",
    "- Se identifcaron datos **NaN** en el atributo **age** de df1 y df2.\n",
    "- Se identifcaron datos **NaN** en el atributo **day_of_week** de df1 y df2.\n",
    "- Se identifcaron datos **unknown** en los atributos **education**, **default** y **housing** de df1.\n",
    "- Se identifcaron datos **-** en el atributo **contact** de df2.\n",
    "- Se identifcaron datos **NO INFO** en el atributo **contact** de df3."
   ]
  },
  {
   "cell_type": "code",
   "execution_count": 72,
   "id": "43786ffc",
   "metadata": {},
   "outputs": [
    {
     "data": {
      "text/plain": [
       "array([51., 37., 38., nan, 32., 45., 54., 30., 41., 31., 46., 43., 35.,\n",
       "       57., 49., 47., 27., 52., 36., 33., 55., 40.])"
      ]
     },
     "execution_count": 72,
     "metadata": {},
     "output_type": "execute_result"
    }
   ],
   "source": [
    "df1['age'].unique()"
   ]
  },
  {
   "cell_type": "code",
   "execution_count": 73,
   "id": "8125f2bf",
   "metadata": {},
   "outputs": [
    {
     "data": {
      "text/plain": [
       "array(['entrepreneur', 'management', 'blue-collar', 'technician',\n",
       "       'admin.', 'self-employed', 'services', 'retired'], dtype=object)"
      ]
     },
     "execution_count": 73,
     "metadata": {},
     "output_type": "execute_result"
    }
   ],
   "source": [
    "df1['job'].unique()"
   ]
  },
  {
   "cell_type": "code",
   "execution_count": 74,
   "id": "7ef3e676",
   "metadata": {},
   "outputs": [
    {
     "data": {
      "text/plain": [
       "array(['divorced', 'married', 'single'], dtype=object)"
      ]
     },
     "execution_count": 74,
     "metadata": {},
     "output_type": "execute_result"
    }
   ],
   "source": [
    "df1['marital'].unique()"
   ]
  },
  {
   "cell_type": "code",
   "execution_count": 75,
   "id": "67ba4a46",
   "metadata": {},
   "outputs": [
    {
     "data": {
      "text/plain": [
       "array(['university.degree', 'basic.4y', 'professional.course', 'basic.9y',\n",
       "       'high.school', 'basic.6y', 'unknown'], dtype=object)"
      ]
     },
     "execution_count": 75,
     "metadata": {},
     "output_type": "execute_result"
    }
   ],
   "source": [
    "df1['education'].unique()"
   ]
  },
  {
   "cell_type": "code",
   "execution_count": 76,
   "id": "96da0018",
   "metadata": {},
   "outputs": [
    {
     "data": {
      "text/plain": [
       "array(['no', 'unknown'], dtype=object)"
      ]
     },
     "execution_count": 76,
     "metadata": {},
     "output_type": "execute_result"
    }
   ],
   "source": [
    "df1['default'].unique()"
   ]
  },
  {
   "cell_type": "code",
   "execution_count": 77,
   "id": "4e104432",
   "metadata": {},
   "outputs": [
    {
     "data": {
      "text/plain": [
       "array(['yes', 'no', 'unknown'], dtype=object)"
      ]
     },
     "execution_count": 77,
     "metadata": {},
     "output_type": "execute_result"
    }
   ],
   "source": [
    "df1['housing'].unique()"
   ]
  },
  {
   "cell_type": "code",
   "execution_count": 78,
   "id": "eae01773",
   "metadata": {},
   "outputs": [
    {
     "data": {
      "text/plain": [
       "array(['mon', 'tue', 'wed', 'fri', nan, 'thu'], dtype=object)"
      ]
     },
     "execution_count": 78,
     "metadata": {},
     "output_type": "execute_result"
    }
   ],
   "source": [
    "df1['day_of_week'].unique()"
   ]
  },
  {
   "cell_type": "code",
   "execution_count": 79,
   "id": "1f95ba72",
   "metadata": {},
   "outputs": [
    {
     "data": {
      "text/plain": [
       "array(['telephone', 'cellular', '-'], dtype=object)"
      ]
     },
     "execution_count": 79,
     "metadata": {},
     "output_type": "execute_result"
    }
   ],
   "source": [
    "df2['contact'].unique()"
   ]
  },
  {
   "cell_type": "code",
   "execution_count": 80,
   "id": "d75cf50e",
   "metadata": {},
   "outputs": [
    {
     "data": {
      "text/plain": [
       "array(['may', 'aug', 'jun', 'nov', 'jul', 'apr'], dtype=object)"
      ]
     },
     "execution_count": 80,
     "metadata": {},
     "output_type": "execute_result"
    }
   ],
   "source": [
    "df2['month'].unique()"
   ]
  },
  {
   "cell_type": "code",
   "execution_count": 81,
   "id": "a542a10c",
   "metadata": {},
   "outputs": [
    {
     "data": {
      "text/plain": [
       "array(['mon', 'tue', 'wed', 'fri', nan, 'thu'], dtype=object)"
      ]
     },
     "execution_count": 81,
     "metadata": {},
     "output_type": "execute_result"
    }
   ],
   "source": [
    "df2['day_of_week'].unique()"
   ]
  },
  {
   "cell_type": "code",
   "execution_count": 82,
   "id": "f4d478cf",
   "metadata": {},
   "outputs": [
    {
     "data": {
      "text/plain": [
       "array([ 231,  263,   95,  495,  428,  174,  195,  490,  198,  177,  262,\n",
       "        355,   92,  488, 1259,  300,  473,   81,  165,  103,  200,  286,\n",
       "        199,  115,  303,  131,  668,  139,  219,  196,  161,  160,  715,\n",
       "        312,   68,  191,  413,  446,  163,  107,  304,  130,  166,  197,\n",
       "        265,  257,  208,  138,  164])"
      ]
     },
     "execution_count": 82,
     "metadata": {},
     "output_type": "execute_result"
    }
   ],
   "source": [
    "df2['duration'].unique()"
   ]
  },
  {
   "cell_type": "code",
   "execution_count": 83,
   "id": "a0b8c655",
   "metadata": {},
   "outputs": [
    {
     "data": {
      "text/plain": [
       "array([ 1,  2,  4, 12,  6,  5,  3])"
      ]
     },
     "execution_count": 83,
     "metadata": {},
     "output_type": "execute_result"
    }
   ],
   "source": [
    "df2['campaign'].unique()"
   ]
  },
  {
   "cell_type": "code",
   "execution_count": 84,
   "id": "11772b01",
   "metadata": {},
   "outputs": [
    {
     "data": {
      "text/plain": [
       "array([999,   3])"
      ]
     },
     "execution_count": 84,
     "metadata": {},
     "output_type": "execute_result"
    }
   ],
   "source": [
    "df2['pdays'].unique()"
   ]
  },
  {
   "cell_type": "code",
   "execution_count": 85,
   "id": "b02dd9ea",
   "metadata": {},
   "outputs": [
    {
     "data": {
      "text/plain": [
       "array([1, 0])"
      ]
     },
     "execution_count": 85,
     "metadata": {},
     "output_type": "execute_result"
    }
   ],
   "source": [
    "df2['previous'].unique()"
   ]
  },
  {
   "cell_type": "code",
   "execution_count": 86,
   "id": "a3ec4e26",
   "metadata": {},
   "outputs": [
    {
     "data": {
      "text/plain": [
       "array(['failure', 'nonexistent', 'success'], dtype=object)"
      ]
     },
     "execution_count": 86,
     "metadata": {},
     "output_type": "execute_result"
    }
   ],
   "source": [
    "df2['poutcome'].unique()"
   ]
  },
  {
   "cell_type": "code",
   "execution_count": 87,
   "id": "7c0df4ac",
   "metadata": {},
   "outputs": [
    {
     "data": {
      "text/plain": [
       "array([51., 37., 38., 52., nan, 45., 54., 30., 41., 31., 33., 46., 35.,\n",
       "       57., 36., 49., 47., 27., 26., 53., 55., 43.])"
      ]
     },
     "execution_count": 87,
     "metadata": {},
     "output_type": "execute_result"
    }
   ],
   "source": [
    "df2['age'].unique()"
   ]
  },
  {
   "cell_type": "code",
   "execution_count": 88,
   "id": "e9b869e1",
   "metadata": {},
   "outputs": [
    {
     "data": {
      "text/plain": [
       "array([-1.8,  1.4, -3.4, -0.1, -2.9,  1.1])"
      ]
     },
     "execution_count": 88,
     "metadata": {},
     "output_type": "execute_result"
    }
   ],
   "source": [
    "df3['emp.var.rate'].unique()"
   ]
  },
  {
   "cell_type": "code",
   "execution_count": 89,
   "id": "6e914f82",
   "metadata": {},
   "outputs": [
    {
     "data": {
      "text/plain": [
       "array([92.893, 93.444, 94.465, 92.649, 93.2  , 92.469, 93.994, 93.918,\n",
       "       93.075, 93.876])"
      ]
     },
     "execution_count": 89,
     "metadata": {},
     "output_type": "execute_result"
    }
   ],
   "source": [
    "df3['cons.price.idx'].unique()"
   ]
  },
  {
   "cell_type": "code",
   "execution_count": 90,
   "id": "69276374",
   "metadata": {},
   "outputs": [
    {
     "data": {
      "text/plain": [
       "array([-46.2, -36.1, -41.8, -30.1, -42. , -33.6, -36.4, -42.7, -47.1,\n",
       "       -40. ])"
      ]
     },
     "execution_count": 90,
     "metadata": {},
     "output_type": "execute_result"
    }
   ],
   "source": [
    "df3['cons.conf.idx'].unique()"
   ]
  },
  {
   "cell_type": "code",
   "execution_count": 91,
   "id": "0bc9024d",
   "metadata": {},
   "outputs": [
    {
     "data": {
      "text/plain": [
       "array([1.299, 4.968, 4.959, 0.714, 4.964, 4.021, 0.914, 4.865, 4.153,\n",
       "       4.857, 4.958, 4.856, 4.191, 4.963, 4.12 , 1.266, 4.855, 1.405,\n",
       "       4.962, 1.25 , 4.076, 0.697, 4.858, 4.957, 4.965, 4.961, 1.281,\n",
       "       1.334, 4.864, 4.859])"
      ]
     },
     "execution_count": 91,
     "metadata": {},
     "output_type": "execute_result"
    }
   ],
   "source": [
    "df3['euribor3m'].unique()"
   ]
  },
  {
   "cell_type": "code",
   "execution_count": 92,
   "id": "03099280",
   "metadata": {},
   "outputs": [
    {
     "data": {
      "text/plain": [
       "array([5099.1, 5228.1, 5017.5, 5195.8, 5076.2, 5191. , 5008.7])"
      ]
     },
     "execution_count": 92,
     "metadata": {},
     "output_type": "execute_result"
    }
   ],
   "source": [
    "df3['nr.employed'].unique()"
   ]
  },
  {
   "cell_type": "code",
   "execution_count": 93,
   "id": "26bc5926",
   "metadata": {},
   "outputs": [
    {
     "data": {
      "text/plain": [
       "array(['telephone', 'NO INFO', 'cellular'], dtype=object)"
      ]
     },
     "execution_count": 93,
     "metadata": {},
     "output_type": "execute_result"
    }
   ],
   "source": [
    "df3['contact'].unique()"
   ]
  },
  {
   "cell_type": "markdown",
   "id": "9b441e11",
   "metadata": {},
   "source": [
    "## 2.- Generar dos gráficos que caractericen los datos y explicarlos (15 ptos.):\n",
    "\n",
    "Apoyarse en la documentación de Matplotlib https://matplotlib.org/ y Seaborn https://seaborn.pydata.org/index.html "
   ]
  },
  {
   "cell_type": "markdown",
   "id": "5d7dd3dd",
   "metadata": {},
   "source": [
    "## Respuesta:"
   ]
  },
  {
   "cell_type": "markdown",
   "id": "27e641c3",
   "metadata": {},
   "source": [
    "**2.1.- Gráficos Pie Chart sobre el dataframe 1**:\n",
    "- Se generó un gráficodel porcentaje de clientes por atributo **education**, en donde se observó que el nivel educacional mayoritario entre los clientes fue grado universitario.\n",
    "- Se generó un gráfico del porcentaje de clientes por atributo **job**, en donde se observó que el trabajo más común entre los clientes fue técnico."
   ]
  },
  {
   "cell_type": "code",
   "execution_count": 94,
   "id": "42005509",
   "metadata": {},
   "outputs": [
    {
     "data": {
      "image/png": "[encoded data removed]",
      "text/plain": [
       "<Figure size 640x480 with 1 Axes>"
      ]
     },
     "metadata": {},
     "output_type": "display_data"
    }
   ],
   "source": [
    "df1.groupby('education').size().plot.pie(autopct = '%0.0f%%')\n",
    "plt.title('Porcentaje de personas por nivel educacional')\n",
    "plt.show()"
   ]
  },
  {
   "cell_type": "code",
   "execution_count": 95,
   "id": "e8c225ca",
   "metadata": {},
   "outputs": [
    {
     "data": {
      "image/png": "[encoded data removed]",
      "text/plain": [
       "<Figure size 640x480 with 1 Axes>"
      ]
     },
     "metadata": {},
     "output_type": "display_data"
    }
   ],
   "source": [
    "df1.groupby('job').size().plot.pie(autopct = '%0.0f%%')\n",
    "plt.title('Porcentaje de personas por puesto de trabajo')\n",
    "plt.show()"
   ]
  },
  {
   "cell_type": "markdown",
   "id": "b4269b4a",
   "metadata": {},
   "source": [
    "**2.2.- Gráficos Bar Chart sobre el dataframe 2:**\n",
    "- Se generó un gráfico de la cantidad de clientes por atributo **month** y **contact**, en donde se observó que mayo fue el mes en que más clientes se contactaron con el banco vía celular.\n",
    "- Se generó un gráfico de la cantidad de clientes por atributo **month** y **poutcome**, en donde se observó que noviembre fue el único mes en donde la campaña de marketing del banco tuvo éxito."
   ]
  },
  {
   "cell_type": "code",
   "execution_count": 96,
   "id": "c9f6807a",
   "metadata": {},
   "outputs": [
    {
     "data": {
      "image/png": "[encoded data removed]",
      "text/plain": [
       "<Figure size 640x480 with 1 Axes>"
      ]
     },
     "metadata": {},
     "output_type": "display_data"
    }
   ],
   "source": [
    "df2.groupby(['month','contact']).size().unstack().plot.bar()\n",
    "plt.title('Cantidad de personas por mes y medio de contacto')\n",
    "plt.show()"
   ]
  },
  {
   "cell_type": "code",
   "execution_count": 97,
   "id": "0c20883e",
   "metadata": {},
   "outputs": [
    {
     "data": {
      "image/png": "[encoded data removed]",
      "text/plain": [
       "<Figure size 640x480 with 1 Axes>"
      ]
     },
     "metadata": {},
     "output_type": "display_data"
    }
   ],
   "source": [
    "df2.groupby(['month','poutcome']).size().unstack().plot.bar()\n",
    "plt.title('Cantidad de personas por mes y resultado de campaña de marketing')\n",
    "plt.show()"
   ]
  },
  {
   "cell_type": "markdown",
   "id": "bf57063c",
   "metadata": {},
   "source": [
    "**2.3.- Gráficos Violin Chart sobre el dataframe 3:**\n",
    "- Se generó un gráfico entre los atributos **contact** y **cons.price.idx**, en donde se observó que en promedio el precio al consumidor es mayor para clientes que se contactaron vía teléfono que para clientes que se contactaron vía celular.\n",
    "- Se generó un gráfico entre los atributos **contact** y **cons.conf.idx**, en donde se observó que en promedio la confianza del consumidor es mayor para clientes que se contactaron vía teléfono que para clientes que se contactaron vía celular."
   ]
  },
  {
   "cell_type": "code",
   "execution_count": 98,
   "id": "370a73f4",
   "metadata": {},
   "outputs": [
    {
     "data": {
      "image/png": "[encoded data removed]",
      "text/plain": [
       "<Figure size 640x480 with 1 Axes>"
      ]
     },
     "metadata": {},
     "output_type": "display_data"
    }
   ],
   "source": [
    "sns.set_theme(style = 'whitegrid')\n",
    "ax = sns.violinplot(data = df3, x = 'contact', y = 'cons.price.idx', split = True, inner = 'quart', linewidth = 1)"
   ]
  },
  {
   "cell_type": "code",
   "execution_count": 99,
   "id": "9c9be060",
   "metadata": {},
   "outputs": [
    {
     "data": {
      "image/png": "[encoded data removed]",
      "text/plain": [
       "<Figure size 640x480 with 1 Axes>"
      ]
     },
     "metadata": {},
     "output_type": "display_data"
    }
   ],
   "source": [
    "sns.set_theme(style = 'whitegrid')\n",
    "ax = sns.violinplot(data = df3, x = 'contact', y = 'cons.conf.idx', split = True, inner = 'quart', linewidth = 1)"
   ]
  },
  {
   "cell_type": "markdown",
   "id": "6ed6c0b7",
   "metadata": {},
   "source": [
    "## 3.- Unir datasets, explicar el tipo de unión y atributo escogido para la unión. Complementar información entre atributos, eliminar atributos innecesarios. Explicar las decisiones tomadas (30 ptos.):\n",
    "\n",
    "Apoyarse en la documentación de Pandas para los distintos tipos de uniones https://pandas.pydata.org/pandas-docs/stable/user_guide/merging.html"
   ]
  },
  {
   "cell_type": "markdown",
   "id": "ebcb279b",
   "metadata": {},
   "source": [
    "## Respuesta:"
   ]
  },
  {
   "cell_type": "markdown",
   "id": "3f7b7932",
   "metadata": {},
   "source": [
    "**3.1.- Unión de los dataframes:**\n",
    "- El atributo elegido para unir df1 con df2 en df12 fue **id** ya que es único en ambos df.\n",
    "- El atributo elegido para unir df12 con df3 en df123 fue **id** ya que es único en ambos df."
   ]
  },
  {
   "cell_type": "code",
   "execution_count": 100,
   "id": "6f3837f8",
   "metadata": {},
   "outputs": [],
   "source": [
    "df12 = pd.merge(df1, df2, left_on = 'id', right_on = 'id')\n",
    "df123 = pd.merge(df12, df3, left_on = 'id', right_on = 'id')"
   ]
  },
  {
   "cell_type": "markdown",
   "id": "a4d6103c",
   "metadata": {},
   "source": [
    "**3.2.- Identificación de los atributos del dataframe unido:**\n",
    "- Se detectaron los atributos complementarios **age_x** y **age_y**.\n",
    "- Se detectaron los atributos complementarios **day_of_week_x** y **day_of_week_y**.\n",
    "- Se detectaron los atributos complementarios **contact_x** y **contact_y**.\n",
    "- Se detectaron los atributos inncesarios **Unnamed: 0_x** y **Unnamed: 0_y**."
   ]
  },
  {
   "cell_type": "code",
   "execution_count": 101,
   "id": "90ebe8e5",
   "metadata": {},
   "outputs": [
    {
     "data": {
      "text/plain": [
       "Index(['Unnamed: 0_x', 'id', 'age_x', 'job', 'marital', 'education', 'default',\n",
       "       'housing', 'day_of_week_x', 'Unnamed: 0_y', 'contact_x', 'month',\n",
       "       'day_of_week_y', 'duration', 'campaign', 'pdays', 'previous',\n",
       "       'poutcome', 'age_y', 'Unnamed: 0', 'emp.var.rate', 'cons.price.idx',\n",
       "       'cons.conf.idx', 'euribor3m', 'nr.employed', 'contact_y'],\n",
       "      dtype='object')"
      ]
     },
     "execution_count": 101,
     "metadata": {},
     "output_type": "execute_result"
    }
   ],
   "source": [
    "df123.columns"
   ]
  },
  {
   "cell_type": "markdown",
   "id": "f9596e6a",
   "metadata": {},
   "source": [
    "**3.3.- Correción del dataframe unido:**\n",
    "\n",
    "- Se reemplazaron los datos **-** por datos **NaN**.\n",
    "- Se reemplazaron los datos **NO INFO** por datos **NaN**.\n",
    "- Se reemplazaron los datos **unknown** por datos **NaN**."
   ]
  },
  {
   "cell_type": "code",
   "execution_count": 102,
   "id": "a1e0ac8b",
   "metadata": {},
   "outputs": [],
   "source": [
    "df123['contact_x'] = np.where(df123['contact_x'] == \"-\", np.nan, df123['contact_x'])\n",
    "df123['contact_y'] = np.where(df123['contact_y'] == \"NO INFO\", np.nan, df123['contact_y'])\n",
    "df123['education'] = np.where(df123['education'] == \"unknown\", np.nan, df123['education'])\n",
    "df123['default'] = np.where(df123['default'] == \"unknown\", np.nan, df123['default'])\n",
    "df123['housing'] = np.where(df123['housing'] == \"unknown\", np.nan, df123['housing'])"
   ]
  },
  {
   "cell_type": "markdown",
   "id": "f0338f84",
   "metadata": {},
   "source": [
    "**3.4.- Reducción del dataframe unido:**\n",
    "- Se combinó la información de los atributos **contact_x** y **contact_y** en un solo atributo **contact**.\n",
    "- Se combinó la información los atributos **age_x** y **age_y** en un solo atributo **age**.\n",
    "- Se combinó la información los atributos **day_of_week_x** y **day_of_week_y** en un solo atributo **day_of_week**.\n",
    "- Se eliminaron los atributos:\n",
    "  - **contact_x** y **contact_y**\n",
    "  - **age_x** y **age_y**\n",
    "  - **day_of_week_x** y **day_of_week_y**\n",
    "  - **Unnamed 0_x** y **Unnamed 0_y**."
   ]
  },
  {
   "cell_type": "code",
   "execution_count": 103,
   "id": "f9d961c5",
   "metadata": {},
   "outputs": [],
   "source": [
    "ynan = np.where(pd.isna(df123['contact_x']), df123['contact_y'], df123['contact_x'])\n",
    "df123['contact'] = np.where(df123['contact_x'] == df123['contact_y'], df123['contact_y'], ynan)"
   ]
  },
  {
   "cell_type": "code",
   "execution_count": 104,
   "id": "64bc910b",
   "metadata": {},
   "outputs": [],
   "source": [
    "ynan = np.where(pd.isna(df123['age_x']), df123['age_y'], df123['age_x'])\n",
    "df123['age'] = np.where(df123['age_x'] == df123['age_y'], df123['age_y'], ynan)"
   ]
  },
  {
   "cell_type": "code",
   "execution_count": 105,
   "id": "8e0a05f9",
   "metadata": {},
   "outputs": [],
   "source": [
    "ynan = np.where(pd.isna(df123['day_of_week_x']), df123['day_of_week_y'], df123['day_of_week_x'])\n",
    "df123['day_of_week'] = np.where(df123['day_of_week_x'] == df123['day_of_week_y'], df123['day_of_week_y'], ynan)"
   ]
  },
  {
   "cell_type": "code",
   "execution_count": 106,
   "id": "4145082a",
   "metadata": {},
   "outputs": [],
   "source": [
    "df123 = df123.drop(labels = ['contact_x', 'contact_y'], axis = 1)\n",
    "df123 = df123.drop(labels = ['age_x', 'age_y'], axis = 1)\n",
    "df123 = df123.drop(labels = ['day_of_week_x', 'day_of_week_y'], axis = 1)\n",
    "df123 = df123.drop(labels = ['Unnamed: 0_x', 'Unnamed: 0_y'], axis = 1)"
   ]
  },
  {
   "cell_type": "markdown",
   "id": "74c8de79",
   "metadata": {},
   "source": [
    "**3.5.- Visualización parcial del dataframe unido:**"
   ]
  },
  {
   "cell_type": "code",
   "execution_count": 107,
   "id": "3bf75f08",
   "metadata": {},
   "outputs": [
    {
     "data": {
      "text/html": [
       "<div>\n",
       "<style scoped>\n",
       "    .dataframe tbody tr th:only-of-type {\n",
       "        vertical-align: middle;\n",
       "    }\n",
       "\n",
       "    .dataframe tbody tr th {\n",
       "        vertical-align: top;\n",
       "    }\n",
       "\n",
       "    .dataframe thead th {\n",
       "        text-align: right;\n",
       "    }\n",
       "</style>\n",
       "<table border=\"1\" class=\"dataframe\">\n",
       "  <thead>\n",
       "    <tr style=\"text-align: right;\">\n",
       "      <th></th>\n",
       "      <th>id</th>\n",
       "      <th>job</th>\n",
       "      <th>marital</th>\n",
       "      <th>education</th>\n",
       "      <th>default</th>\n",
       "      <th>housing</th>\n",
       "      <th>month</th>\n",
       "      <th>duration</th>\n",
       "      <th>campaign</th>\n",
       "      <th>pdays</th>\n",
       "      <th>previous</th>\n",
       "      <th>poutcome</th>\n",
       "      <th>Unnamed: 0</th>\n",
       "      <th>emp.var.rate</th>\n",
       "      <th>cons.price.idx</th>\n",
       "      <th>cons.conf.idx</th>\n",
       "      <th>euribor3m</th>\n",
       "      <th>nr.employed</th>\n",
       "      <th>contact</th>\n",
       "      <th>age</th>\n",
       "      <th>day_of_week</th>\n",
       "    </tr>\n",
       "  </thead>\n",
       "  <tbody>\n",
       "    <tr>\n",
       "      <th>0</th>\n",
       "      <td>2292</td>\n",
       "      <td>entrepreneur</td>\n",
       "      <td>divorced</td>\n",
       "      <td>university.degree</td>\n",
       "      <td>no</td>\n",
       "      <td>yes</td>\n",
       "      <td>may</td>\n",
       "      <td>231</td>\n",
       "      <td>1</td>\n",
       "      <td>999</td>\n",
       "      <td>1</td>\n",
       "      <td>failure</td>\n",
       "      <td>2292</td>\n",
       "      <td>-1.8</td>\n",
       "      <td>92.893</td>\n",
       "      <td>-46.2</td>\n",
       "      <td>1.299</td>\n",
       "      <td>5099.1</td>\n",
       "      <td>telephone</td>\n",
       "      <td>51.0</td>\n",
       "      <td>mon</td>\n",
       "    </tr>\n",
       "    <tr>\n",
       "      <th>1</th>\n",
       "      <td>1536</td>\n",
       "      <td>management</td>\n",
       "      <td>married</td>\n",
       "      <td>university.degree</td>\n",
       "      <td>no</td>\n",
       "      <td>yes</td>\n",
       "      <td>aug</td>\n",
       "      <td>263</td>\n",
       "      <td>2</td>\n",
       "      <td>999</td>\n",
       "      <td>0</td>\n",
       "      <td>nonexistent</td>\n",
       "      <td>1536</td>\n",
       "      <td>1.4</td>\n",
       "      <td>93.444</td>\n",
       "      <td>-36.1</td>\n",
       "      <td>4.968</td>\n",
       "      <td>5228.1</td>\n",
       "      <td>cellular</td>\n",
       "      <td>37.0</td>\n",
       "      <td>tue</td>\n",
       "    </tr>\n",
       "    <tr>\n",
       "      <th>2</th>\n",
       "      <td>4047</td>\n",
       "      <td>blue-collar</td>\n",
       "      <td>married</td>\n",
       "      <td>basic.4y</td>\n",
       "      <td>NaN</td>\n",
       "      <td>no</td>\n",
       "      <td>jun</td>\n",
       "      <td>95</td>\n",
       "      <td>2</td>\n",
       "      <td>999</td>\n",
       "      <td>0</td>\n",
       "      <td>nonexistent</td>\n",
       "      <td>4047</td>\n",
       "      <td>1.4</td>\n",
       "      <td>94.465</td>\n",
       "      <td>-41.8</td>\n",
       "      <td>4.959</td>\n",
       "      <td>5228.1</td>\n",
       "      <td>telephone</td>\n",
       "      <td>38.0</td>\n",
       "      <td>wed</td>\n",
       "    </tr>\n",
       "    <tr>\n",
       "      <th>3</th>\n",
       "      <td>3862</td>\n",
       "      <td>technician</td>\n",
       "      <td>married</td>\n",
       "      <td>professional.course</td>\n",
       "      <td>no</td>\n",
       "      <td>yes</td>\n",
       "      <td>nov</td>\n",
       "      <td>495</td>\n",
       "      <td>1</td>\n",
       "      <td>3</td>\n",
       "      <td>1</td>\n",
       "      <td>success</td>\n",
       "      <td>3862</td>\n",
       "      <td>-3.4</td>\n",
       "      <td>92.649</td>\n",
       "      <td>-30.1</td>\n",
       "      <td>0.714</td>\n",
       "      <td>5017.5</td>\n",
       "      <td>cellular</td>\n",
       "      <td>52.0</td>\n",
       "      <td>fri</td>\n",
       "    </tr>\n",
       "    <tr>\n",
       "      <th>4</th>\n",
       "      <td>1340</td>\n",
       "      <td>admin.</td>\n",
       "      <td>married</td>\n",
       "      <td>university.degree</td>\n",
       "      <td>no</td>\n",
       "      <td>yes</td>\n",
       "      <td>aug</td>\n",
       "      <td>428</td>\n",
       "      <td>4</td>\n",
       "      <td>999</td>\n",
       "      <td>0</td>\n",
       "      <td>nonexistent</td>\n",
       "      <td>1340</td>\n",
       "      <td>1.4</td>\n",
       "      <td>93.444</td>\n",
       "      <td>-36.1</td>\n",
       "      <td>4.964</td>\n",
       "      <td>5228.1</td>\n",
       "      <td>cellular</td>\n",
       "      <td>32.0</td>\n",
       "      <td>wed</td>\n",
       "    </tr>\n",
       "  </tbody>\n",
       "</table>\n",
       "</div>"
      ],
      "text/plain": [
       "     id           job   marital            education default housing month  \\\n",
       "0  2292  entrepreneur  divorced    university.degree      no     yes   may   \n",
       "1  1536    management   married    university.degree      no     yes   aug   \n",
       "2  4047   blue-collar   married             basic.4y     NaN      no   jun   \n",
       "3  3862    technician   married  professional.course      no     yes   nov   \n",
       "4  1340        admin.   married    university.degree      no     yes   aug   \n",
       "\n",
       "   duration  campaign  pdays  previous     poutcome  Unnamed: 0  emp.var.rate  \\\n",
       "0       231         1    999         1      failure        2292          -1.8   \n",
       "1       263         2    999         0  nonexistent        1536           1.4   \n",
       "2        95         2    999         0  nonexistent        4047           1.4   \n",
       "3       495         1      3         1      success        3862          -3.4   \n",
       "4       428         4    999         0  nonexistent        1340           1.4   \n",
       "\n",
       "   cons.price.idx  cons.conf.idx  euribor3m  nr.employed    contact   age  \\\n",
       "0          92.893          -46.2      1.299       5099.1  telephone  51.0   \n",
       "1          93.444          -36.1      4.968       5228.1   cellular  37.0   \n",
       "2          94.465          -41.8      4.959       5228.1  telephone  38.0   \n",
       "3          92.649          -30.1      0.714       5017.5   cellular  52.0   \n",
       "4          93.444          -36.1      4.964       5228.1   cellular  32.0   \n",
       "\n",
       "  day_of_week  \n",
       "0         mon  \n",
       "1         tue  \n",
       "2         wed  \n",
       "3         fri  \n",
       "4         wed  "
      ]
     },
     "execution_count": 107,
     "metadata": {},
     "output_type": "execute_result"
    }
   ],
   "source": [
    "df123.head()"
   ]
  },
  {
   "cell_type": "markdown",
   "id": "4d6f748f",
   "metadata": {},
   "source": [
    "**3.6.- Cantidad de datos nulos por atributo en el dataframe unido:**\n",
    "- Se detectó 1 dato **NaN** en el atributo **education**.\n",
    "- Se detectaron 13 datos **NaN** en el atributo **education**.\n",
    "- Se detectó 1 dato **NaN** en el atributo **housing**.\n",
    "- Se detectaron 2 datos **NaN** en el atributo **day_of_week**."
   ]
  },
  {
   "cell_type": "code",
   "execution_count": 108,
   "id": "b35499fc",
   "metadata": {},
   "outputs": [
    {
     "data": {
      "text/plain": [
       "id                 0\n",
       "job                0\n",
       "marital            0\n",
       "education          1\n",
       "default           13\n",
       "housing            1\n",
       "month              0\n",
       "duration           0\n",
       "campaign           0\n",
       "pdays              0\n",
       "previous           0\n",
       "poutcome           0\n",
       "Unnamed: 0         0\n",
       "emp.var.rate       0\n",
       "cons.price.idx     0\n",
       "cons.conf.idx      0\n",
       "euribor3m          0\n",
       "nr.employed        0\n",
       "contact            0\n",
       "age                0\n",
       "day_of_week        2\n",
       "dtype: int64"
      ]
     },
     "execution_count": 108,
     "metadata": {},
     "output_type": "execute_result"
    }
   ],
   "source": [
    "pd.isna(df123).sum()"
   ]
  },
  {
   "cell_type": "markdown",
   "id": "f82fd0d1",
   "metadata": {},
   "source": [
    "## 4.- Transformar a formato pedido en tabla output.csv, el resultado debe quedar igual a la tabla presentada en el archivo output.csv. Normalizar los datos numéricos, explicar el tipo de normalización utilizada (recordar que es normalización de datos y no normalización de base de datos, i.e. Standard Scaler, MinMax Scaler, etc.) (30 ptos.):\n",
    "\n",
    "Apoyarse en la documentación de Scikit-Learn para los distintos tipos de normalización de datos https://scikit-learn.org/stable/modules/classes.html#module-sklearn.preprocessing"
   ]
  },
  {
   "cell_type": "markdown",
   "id": "f1871b6d",
   "metadata": {},
   "source": [
    "## Respuesta:"
   ]
  },
  {
   "cell_type": "markdown",
   "id": "f08d7ae0",
   "metadata": {},
   "source": [
    "**4.1.- Reordenamiento de atributos del dataframe unido:**"
   ]
  },
  {
   "cell_type": "code",
   "execution_count": 109,
   "id": "ac57bb7b",
   "metadata": {},
   "outputs": [],
   "source": [
    "df = df123[\n",
    "    ['Unnamed: 0', \n",
    "    'id', \n",
    "    'age', \n",
    "    'job', \n",
    "    'marital', \n",
    "    'education', \n",
    "    'default', \n",
    "    'housing',  \n",
    "    'contact', \n",
    "    'month', \n",
    "    'day_of_week', \n",
    "    'duration', \n",
    "    'campaign', \n",
    "    'pdays', \n",
    "    'previous', \n",
    "    'poutcome', \n",
    "    'emp.var.rate', \n",
    "    'cons.price.idx', \n",
    "    'cons.conf.idx', \n",
    "    'euribor3m', \n",
    "    'nr.employed', \n",
    "    ]]"
   ]
  },
  {
   "cell_type": "markdown",
   "id": "963c1856",
   "metadata": {},
   "source": [
    "**4.2.- Modificación de formatos y valores de atributos:**\n",
    "- Se reescribió el nombre completo del mes en el atributo **month**.\n",
    "- Se reescribió el nombre completo del día en el atributo **day_of_week**.\n",
    "- Se añadió la palabra **years** y se removió el decimal **.0** a la edad en el atributo **age**.\n",
    "- Se reemplazó el **.** por un espacio vacío en los datos del atributo **education**.\n",
    "- Se reemplazó el dato **nonexistent** por **not existent** en el atributo **poutcome**."
   ]
  },
  {
   "cell_type": "code",
   "execution_count": 110,
   "id": "1b97c8e6",
   "metadata": {},
   "outputs": [
    {
     "data": {
      "text/plain": [
       "0         may\n",
       "1      august\n",
       "2        june\n",
       "3    november\n",
       "4      august\n",
       "Name: month, dtype: object"
      ]
     },
     "execution_count": 110,
     "metadata": {},
     "output_type": "execute_result"
    }
   ],
   "source": [
    "df['month'] = df.month.replace({\n",
    "    'may' : 'may', \n",
    "    'aug' : 'august', \n",
    "    'jun' : \"june\", \n",
    "    'nov' : \"november\", \n",
    "    'jul' : \"july\", \n",
    "    'apr' : \"april\"\n",
    "    })\n",
    "df['month'].head()"
   ]
  },
  {
   "cell_type": "code",
   "execution_count": 111,
   "id": "bb79f3e3",
   "metadata": {},
   "outputs": [
    {
     "data": {
      "text/plain": [
       "0       monday\n",
       "1      tuesday\n",
       "2    wednesday\n",
       "3       friday\n",
       "4    wednesday\n",
       "Name: day_of_week, dtype: object"
      ]
     },
     "execution_count": 111,
     "metadata": {},
     "output_type": "execute_result"
    }
   ],
   "source": [
    "df['day_of_week'] = df.day_of_week.replace({\n",
    "    'mon': 'monday', \n",
    "    'tue': 'tuesday', \n",
    "    'wed': 'wednesday', \n",
    "    'fri': 'friday', \n",
    "    'thu': 'thursday', \n",
    "    })\n",
    "df['day_of_week'].head()"
   ]
  },
  {
   "cell_type": "code",
   "execution_count": 112,
   "id": "cad2226c",
   "metadata": {},
   "outputs": [
    {
     "data": {
      "text/plain": [
       "0    51 years\n",
       "1    37 years\n",
       "2    38 years\n",
       "3    52 years\n",
       "4    32 years\n",
       "Name: age, dtype: object"
      ]
     },
     "execution_count": 112,
     "metadata": {},
     "output_type": "execute_result"
    }
   ],
   "source": [
    "df['age'] = df['age'].astype(str) + ' years'\n",
    "df['age'] = df['age'].str.replace('.0', '')\n",
    "df['age'].head()"
   ]
  },
  {
   "cell_type": "code",
   "execution_count": 113,
   "id": "dd57da2c",
   "metadata": {},
   "outputs": [
    {
     "data": {
      "text/plain": [
       "0      university degree\n",
       "1      university degree\n",
       "2               basic 4y\n",
       "3    professional course\n",
       "4      university degree\n",
       "Name: education, dtype: object"
      ]
     },
     "execution_count": 113,
     "metadata": {},
     "output_type": "execute_result"
    }
   ],
   "source": [
    "df['education'] = df['education'].str.replace('.', ' ')\n",
    "df['education'].head()"
   ]
  },
  {
   "cell_type": "code",
   "execution_count": 114,
   "id": "e2ecb00b",
   "metadata": {},
   "outputs": [
    {
     "data": {
      "text/plain": [
       "0         failure\n",
       "1    not existent\n",
       "2    not existent\n",
       "3         success\n",
       "4    not existent\n",
       "Name: poutcome, dtype: object"
      ]
     },
     "execution_count": 114,
     "metadata": {},
     "output_type": "execute_result"
    }
   ],
   "source": [
    "df['poutcome'] = df['poutcome'].str.replace('nonexistent', 'not existent')\n",
    "df['poutcome'].head()"
   ]
  },
  {
   "cell_type": "markdown",
   "id": "7b28e7f8",
   "metadata": {},
   "source": [
    "**4.3.- Normalización de datos:**\n",
    "- Se fitearon los datos numéricos de df usando la función **fit** de la librería **StandardScaler**.\n",
    "- Se normalizaron los datos numéricos de df usando la función **transform** de la librería **StandardScaler**."
   ]
  },
  {
   "cell_type": "code",
   "execution_count": 115,
   "id": "80222015",
   "metadata": {},
   "outputs": [
    {
     "data": {
      "text/html": [
       "<style>#sk-container-id-1 {color: black;}#sk-container-id-1 pre{padding: 0;}#sk-container-id-1 div.sk-toggleable {background-color: white;}#sk-container-id-1 label.sk-toggleable__label {cursor: pointer;display: block;width: 100%;margin-bottom: 0;padding: 0.3em;box-sizing: border-box;text-align: center;}#sk-container-id-1 label.sk-toggleable__label-arrow:before {content: \"▸\";float: left;margin-right: 0.25em;color: #696969;}#sk-container-id-1 label.sk-toggleable__label-arrow:hover:before {color: black;}#sk-container-id-1 div.sk-estimator:hover label.sk-toggleable__label-arrow:before {color: black;}#sk-container-id-1 div.sk-toggleable__content {max-height: 0;max-width: 0;overflow: hidden;text-align: left;background-color: #f0f8ff;}#sk-container-id-1 div.sk-toggleable__content pre {margin: 0.2em;color: black;border-radius: 0.25em;background-color: #f0f8ff;}#sk-container-id-1 input.sk-toggleable__control:checked~div.sk-toggleable__content {max-height: 200px;max-width: 100%;overflow: auto;}#sk-container-id-1 input.sk-toggleable__control:checked~label.sk-toggleable__label-arrow:before {content: \"▾\";}#sk-container-id-1 div.sk-estimator input.sk-toggleable__control:checked~label.sk-toggleable__label {background-color: #d4ebff;}#sk-container-id-1 div.sk-label input.sk-toggleable__control:checked~label.sk-toggleable__label {background-color: #d4ebff;}#sk-container-id-1 input.sk-hidden--visually {border: 0;clip: rect(1px 1px 1px 1px);clip: rect(1px, 1px, 1px, 1px);height: 1px;margin: -1px;overflow: hidden;padding: 0;position: absolute;width: 1px;}#sk-container-id-1 div.sk-estimator {font-family: monospace;background-color: #f0f8ff;border: 1px dotted black;border-radius: 0.25em;box-sizing: border-box;margin-bottom: 0.5em;}#sk-container-id-1 div.sk-estimator:hover {background-color: #d4ebff;}#sk-container-id-1 div.sk-parallel-item::after {content: \"\";width: 100%;border-bottom: 1px solid gray;flex-grow: 1;}#sk-container-id-1 div.sk-label:hover label.sk-toggleable__label {background-color: #d4ebff;}#sk-container-id-1 div.sk-serial::before {content: \"\";position: absolute;border-left: 1px solid gray;box-sizing: border-box;top: 0;bottom: 0;left: 50%;z-index: 0;}#sk-container-id-1 div.sk-serial {display: flex;flex-direction: column;align-items: center;background-color: white;padding-right: 0.2em;padding-left: 0.2em;position: relative;}#sk-container-id-1 div.sk-item {position: relative;z-index: 1;}#sk-container-id-1 div.sk-parallel {display: flex;align-items: stretch;justify-content: center;background-color: white;position: relative;}#sk-container-id-1 div.sk-item::before, #sk-container-id-1 div.sk-parallel-item::before {content: \"\";position: absolute;border-left: 1px solid gray;box-sizing: border-box;top: 0;bottom: 0;left: 50%;z-index: -1;}#sk-container-id-1 div.sk-parallel-item {display: flex;flex-direction: column;z-index: 1;position: relative;background-color: white;}#sk-container-id-1 div.sk-parallel-item:first-child::after {align-self: flex-end;width: 50%;}#sk-container-id-1 div.sk-parallel-item:last-child::after {align-self: flex-start;width: 50%;}#sk-container-id-1 div.sk-parallel-item:only-child::after {width: 0;}#sk-container-id-1 div.sk-dashed-wrapped {border: 1px dashed gray;margin: 0 0.4em 0.5em 0.4em;box-sizing: border-box;padding-bottom: 0.4em;background-color: white;}#sk-container-id-1 div.sk-label label {font-family: monospace;font-weight: bold;display: inline-block;line-height: 1.2em;}#sk-container-id-1 div.sk-label-container {text-align: center;}#sk-container-id-1 div.sk-container {/* jupyter's `normalize.less` sets `[hidden] { display: none; }` but bootstrap.min.css set `[hidden] { display: none !important; }` so we also need the `!important` here to be able to override the default hidden behavior on the sphinx rendered scikit-learn.org. See: https://github.com/scikit-learn/scikit-learn/issues/21755 */display: inline-block !important;position: relative;}#sk-container-id-1 div.sk-text-repr-fallback {display: none;}</style><div id=\"sk-container-id-1\" class=\"sk-top-container\"><div class=\"sk-text-repr-fallback\"><pre>StandardScaler()</pre><b>In a Jupyter environment, please rerun this cell to show the HTML representation or trust the notebook. <br />On GitHub, the HTML representation is unable to render, please try loading this page with nbviewer.org.</b></div><div class=\"sk-container\" hidden><div class=\"sk-item\"><div class=\"sk-estimator sk-toggleable\"><input class=\"sk-toggleable__control sk-hidden--visually\" id=\"sk-estimator-id-1\" type=\"checkbox\" checked><label for=\"sk-estimator-id-1\" class=\"sk-toggleable__label sk-toggleable__label-arrow\">StandardScaler</label><div class=\"sk-toggleable__content\"><pre>StandardScaler()</pre></div></div></div></div></div>"
      ],
      "text/plain": [
       "StandardScaler()"
      ]
     },
     "execution_count": 115,
     "metadata": {},
     "output_type": "execute_result"
    }
   ],
   "source": [
    "scaler = StandardScaler()\n",
    "scaler.fit(df[[\n",
    "    'duration', \n",
    "    'campaign', \n",
    "    'pdays', \n",
    "    'previous', \n",
    "    'emp.var.rate', \n",
    "    'cons.price.idx', \n",
    "    'cons.conf.idx', \n",
    "    'euribor3m', \n",
    "    'nr.employed'\n",
    "    ]])"
   ]
  },
  {
   "cell_type": "code",
   "execution_count": 116,
   "id": "b30fc0cb",
   "metadata": {},
   "outputs": [],
   "source": [
    "df[[\n",
    "    'duration', \n",
    "    'campaign', \n",
    "    'pdays', \n",
    "    'previous', \n",
    "    'emp.var.rate', \n",
    "    'cons.price.idx', \n",
    "    'cons.conf.idx', \n",
    "    'euribor3m', \n",
    "    'nr.employed'\n",
    "    ]] = scaler.transform(df[[\n",
    "    'duration', \n",
    "    'campaign', \n",
    "    'pdays', \n",
    "    'previous', \n",
    "    'emp.var.rate', \n",
    "    'cons.price.idx', \n",
    "    'cons.conf.idx', \n",
    "    'euribor3m', \n",
    "    'nr.employed'\n",
    "    ]])"
   ]
  },
  {
   "cell_type": "markdown",
   "id": "e620b989",
   "metadata": {},
   "source": [
    "**4.4.- Visualización parcial del dataframe normalizado:**"
   ]
  },
  {
   "cell_type": "code",
   "execution_count": 117,
   "id": "a07f95e7",
   "metadata": {},
   "outputs": [
    {
     "data": {
      "text/html": [
       "<div>\n",
       "<style scoped>\n",
       "    .dataframe tbody tr th:only-of-type {\n",
       "        vertical-align: middle;\n",
       "    }\n",
       "\n",
       "    .dataframe tbody tr th {\n",
       "        vertical-align: top;\n",
       "    }\n",
       "\n",
       "    .dataframe thead th {\n",
       "        text-align: right;\n",
       "    }\n",
       "</style>\n",
       "<table border=\"1\" class=\"dataframe\">\n",
       "  <thead>\n",
       "    <tr style=\"text-align: right;\">\n",
       "      <th></th>\n",
       "      <th>Unnamed: 0</th>\n",
       "      <th>id</th>\n",
       "      <th>age</th>\n",
       "      <th>job</th>\n",
       "      <th>marital</th>\n",
       "      <th>education</th>\n",
       "      <th>default</th>\n",
       "      <th>housing</th>\n",
       "      <th>contact</th>\n",
       "      <th>month</th>\n",
       "      <th>day_of_week</th>\n",
       "      <th>duration</th>\n",
       "      <th>campaign</th>\n",
       "      <th>pdays</th>\n",
       "      <th>previous</th>\n",
       "      <th>poutcome</th>\n",
       "      <th>emp.var.rate</th>\n",
       "      <th>cons.price.idx</th>\n",
       "      <th>cons.conf.idx</th>\n",
       "      <th>euribor3m</th>\n",
       "      <th>nr.employed</th>\n",
       "    </tr>\n",
       "  </thead>\n",
       "  <tbody>\n",
       "    <tr>\n",
       "      <th>0</th>\n",
       "      <td>2292</td>\n",
       "      <td>2292</td>\n",
       "      <td>51 years</td>\n",
       "      <td>entrepreneur</td>\n",
       "      <td>divorced</td>\n",
       "      <td>university degree</td>\n",
       "      <td>no</td>\n",
       "      <td>yes</td>\n",
       "      <td>telephone</td>\n",
       "      <td>may</td>\n",
       "      <td>monday</td>\n",
       "      <td>-0.193269</td>\n",
       "      <td>-0.674469</td>\n",
       "      <td>0.142857</td>\n",
       "      <td>2.708013</td>\n",
       "      <td>failure</td>\n",
       "      <td>-1.541145</td>\n",
       "      <td>-1.365158</td>\n",
       "      <td>-1.496470</td>\n",
       "      <td>-1.757265</td>\n",
       "      <td>-1.429970</td>\n",
       "    </tr>\n",
       "    <tr>\n",
       "      <th>1</th>\n",
       "      <td>1536</td>\n",
       "      <td>1536</td>\n",
       "      <td>37 years</td>\n",
       "      <td>management</td>\n",
       "      <td>married</td>\n",
       "      <td>university degree</td>\n",
       "      <td>no</td>\n",
       "      <td>yes</td>\n",
       "      <td>cellular</td>\n",
       "      <td>august</td>\n",
       "      <td>tuesday</td>\n",
       "      <td>-0.035095</td>\n",
       "      <td>-0.147540</td>\n",
       "      <td>0.142857</td>\n",
       "      <td>-0.369274</td>\n",
       "      <td>not existent</td>\n",
       "      <td>0.780731</td>\n",
       "      <td>-0.283413</td>\n",
       "      <td>0.965952</td>\n",
       "      <td>0.661044</td>\n",
       "      <td>0.822144</td>\n",
       "    </tr>\n",
       "    <tr>\n",
       "      <th>2</th>\n",
       "      <td>4047</td>\n",
       "      <td>4047</td>\n",
       "      <td>38 years</td>\n",
       "      <td>blue-collar</td>\n",
       "      <td>married</td>\n",
       "      <td>basic 4y</td>\n",
       "      <td>NaN</td>\n",
       "      <td>no</td>\n",
       "      <td>telephone</td>\n",
       "      <td>june</td>\n",
       "      <td>wednesday</td>\n",
       "      <td>-0.865507</td>\n",
       "      <td>-0.147540</td>\n",
       "      <td>0.142857</td>\n",
       "      <td>-0.369274</td>\n",
       "      <td>not existent</td>\n",
       "      <td>0.780731</td>\n",
       "      <td>1.721054</td>\n",
       "      <td>-0.423732</td>\n",
       "      <td>0.655112</td>\n",
       "      <td>0.822144</td>\n",
       "    </tr>\n",
       "    <tr>\n",
       "      <th>3</th>\n",
       "      <td>3862</td>\n",
       "      <td>3862</td>\n",
       "      <td>52 years</td>\n",
       "      <td>technician</td>\n",
       "      <td>married</td>\n",
       "      <td>professional course</td>\n",
       "      <td>no</td>\n",
       "      <td>yes</td>\n",
       "      <td>cellular</td>\n",
       "      <td>november</td>\n",
       "      <td>friday</td>\n",
       "      <td>1.111665</td>\n",
       "      <td>-0.674469</td>\n",
       "      <td>-7.000000</td>\n",
       "      <td>2.708013</td>\n",
       "      <td>success</td>\n",
       "      <td>-2.702083</td>\n",
       "      <td>-1.844188</td>\n",
       "      <td>2.428777</td>\n",
       "      <td>-2.142850</td>\n",
       "      <td>-2.854563</td>\n",
       "    </tr>\n",
       "    <tr>\n",
       "      <th>4</th>\n",
       "      <td>1340</td>\n",
       "      <td>1340</td>\n",
       "      <td>32 years</td>\n",
       "      <td>admin.</td>\n",
       "      <td>married</td>\n",
       "      <td>university degree</td>\n",
       "      <td>no</td>\n",
       "      <td>yes</td>\n",
       "      <td>cellular</td>\n",
       "      <td>august</td>\n",
       "      <td>wednesday</td>\n",
       "      <td>0.780489</td>\n",
       "      <td>0.906318</td>\n",
       "      <td>0.142857</td>\n",
       "      <td>-0.369274</td>\n",
       "      <td>not existent</td>\n",
       "      <td>0.780731</td>\n",
       "      <td>-0.283413</td>\n",
       "      <td>0.965952</td>\n",
       "      <td>0.658408</td>\n",
       "      <td>0.822144</td>\n",
       "    </tr>\n",
       "  </tbody>\n",
       "</table>\n",
       "</div>"
      ],
      "text/plain": [
       "   Unnamed: 0    id       age           job   marital            education  \\\n",
       "0        2292  2292  51 years  entrepreneur  divorced    university degree   \n",
       "1        1536  1536  37 years    management   married    university degree   \n",
       "2        4047  4047  38 years   blue-collar   married             basic 4y   \n",
       "3        3862  3862  52 years    technician   married  professional course   \n",
       "4        1340  1340  32 years        admin.   married    university degree   \n",
       "\n",
       "  default housing    contact     month day_of_week  duration  campaign  \\\n",
       "0      no     yes  telephone       may      monday -0.193269 -0.674469   \n",
       "1      no     yes   cellular    august     tuesday -0.035095 -0.147540   \n",
       "2     NaN      no  telephone      june   wednesday -0.865507 -0.147540   \n",
       "3      no     yes   cellular  november      friday  1.111665 -0.674469   \n",
       "4      no     yes   cellular    august   wednesday  0.780489  0.906318   \n",
       "\n",
       "      pdays  previous      poutcome  emp.var.rate  cons.price.idx  \\\n",
       "0  0.142857  2.708013       failure     -1.541145       -1.365158   \n",
       "1  0.142857 -0.369274  not existent      0.780731       -0.283413   \n",
       "2  0.142857 -0.369274  not existent      0.780731        1.721054   \n",
       "3 -7.000000  2.708013       success     -2.702083       -1.844188   \n",
       "4  0.142857 -0.369274  not existent      0.780731       -0.283413   \n",
       "\n",
       "   cons.conf.idx  euribor3m  nr.employed  \n",
       "0      -1.496470  -1.757265    -1.429970  \n",
       "1       0.965952   0.661044     0.822144  \n",
       "2      -0.423732   0.655112     0.822144  \n",
       "3       2.428777  -2.142850    -2.854563  \n",
       "4       0.965952   0.658408     0.822144  "
      ]
     },
     "execution_count": 117,
     "metadata": {},
     "output_type": "execute_result"
    }
   ],
   "source": [
    "df.head()"
   ]
  },
  {
   "cell_type": "markdown",
   "id": "aa392fcf",
   "metadata": {},
   "source": [
    "## 5.- Generar archivo de salida en formato csv o excel (3 ptos.):\n"
   ]
  },
  {
   "cell_type": "markdown",
   "id": "f4895bc1",
   "metadata": {},
   "source": [
    "## Respuesta:"
   ]
  },
  {
   "cell_type": "markdown",
   "id": "c509a91c",
   "metadata": {},
   "source": [
    "**5.1.- Generación de archivo CSV desde el dataframe normalizado:**\n",
    "- Se cambió el índice por defecto al atributo **Unnamed: 0**.\n",
    "- Se eliminó el nombre del nuevo índice."
   ]
  },
  {
   "cell_type": "code",
   "execution_count": 118,
   "id": "7832ef1c",
   "metadata": {},
   "outputs": [],
   "source": [
    "df = df.set_index('Unnamed: 0')\n",
    "df.index.name = None\n",
    "df.to_csv('data/output_fbcj.csv', sep = ',')"
   ]
  }
 ],
 "metadata": {
  "kernelspec": {
   "display_name": "Python 3",
   "language": "python",
   "name": "python3"
  },
  "language_info": {
   "codemirror_mode": {
    "name": "ipython",
    "version": 3
   },
   "file_extension": ".py",
   "mimetype": "text/x-python",
   "name": "python",
   "nbconvert_exporter": "python",
   "pygments_lexer": "ipython3",
   "version": "3.11.3"
  }
 },
 "nbformat": 4,
 "nbformat_minor": 5
}
